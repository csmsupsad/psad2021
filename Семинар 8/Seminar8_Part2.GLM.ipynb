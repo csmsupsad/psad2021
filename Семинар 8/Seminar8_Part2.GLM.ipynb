{
 "cells": [
  {
   "cell_type": "markdown",
   "metadata": {
    "id": "7dPmQB6BoKmR"
   },
   "source": [
    "<center>Заметка 9. \tGLM.</center>\n",
    "<center>курс <q>Прикладной статистический анализ данных</q>.</center>\n",
    "<center>Версия 1. 2 апреля 2021 г.</center>"
   ]
  },
  {
   "cell_type": "markdown",
   "metadata": {},
   "source": [
    "# Кардиотокография"
   ]
  },
  {
   "cell_type": "markdown",
   "metadata": {
    "id": "oRuqhhSGoKmW"
   },
   "source": [
    "## Постановка задачи"
   ]
  },
  {
   "cell_type": "markdown",
   "metadata": {
    "id": "LYCVjPYOoKmX"
   },
   "source": [
    "Кардиотокография — диагностическая техника, фиксирующая сердцебиение плода и тонус матки и позволяющая оценить состояние эмбриона. Непосредственный результат наблюдений интерпретировать крайне сложно. Чтобы облегчить задачу диагностики, результаты кардиотокографии 1831 эмбрионов были классифицированы опытными специалистами на нормальные и патологические, а на основе показаний прибора был сгенерирован 21 признак. Ставится задача построения функции, определяющей вероятность наличия патологии по описанию кардиотокограммы и оценки вклада признаков."
   ]
  },
  {
   "cell_type": "markdown",
   "metadata": {
    "id": "sSarevUgoKmX"
   },
   "source": [
    "## Решение"
   ]
  },
  {
   "cell_type": "code",
   "execution_count": null,
   "metadata": {
    "colab": {
     "base_uri": "https://localhost:8080/"
    },
    "id": "coMgxRGroKmX",
    "outputId": "0ebc13b4-ed70-4200-d92a-5b3e82a5b2c3"
   },
   "outputs": [
    {
     "name": "stderr",
     "output_type": "stream",
     "text": [
      "/usr/local/lib/python3.7/dist-packages/statsmodels/tools/_testing.py:19: FutureWarning: pandas.util.testing is deprecated. Use the functions in the public API at pandas.testing instead.\n",
      "  import pandas.util.testing as tm\n"
     ]
    }
   ],
   "source": [
    "import pandas as pd\n",
    "import numpy as np\n",
    "import matplotlib.pyplot as plt\n",
    "import statsmodels.api as sm\n",
    "import seaborn as sns\n",
    "import statsmodels.formula.api as smf\n",
    "from statsmodels.stats.outliers_influence import variance_inflation_factor\n",
    "from scipy.stats.distributions import chi2\n",
    "%matplotlib inline"
   ]
  },
  {
   "cell_type": "code",
   "execution_count": null,
   "metadata": {
    "colab": {
     "base_uri": "https://localhost:8080/",
     "height": 297
    },
    "id": "vQKX5bIOoKmY",
    "outputId": "eb82d0d5-c0bc-452d-c692-fdc770430dce"
   },
   "outputs": [
    {
     "data": {
      "text/html": [
       "<div>\n",
       "<style scoped>\n",
       "    .dataframe tbody tr th:only-of-type {\n",
       "        vertical-align: middle;\n",
       "    }\n",
       "\n",
       "    .dataframe tbody tr th {\n",
       "        vertical-align: top;\n",
       "    }\n",
       "\n",
       "    .dataframe thead th {\n",
       "        text-align: right;\n",
       "    }\n",
       "</style>\n",
       "<table border=\"1\" class=\"dataframe\">\n",
       "  <thead>\n",
       "    <tr style=\"text-align: right;\">\n",
       "      <th></th>\n",
       "      <th>LB</th>\n",
       "      <th>AC</th>\n",
       "      <th>FM</th>\n",
       "      <th>UC</th>\n",
       "      <th>DL</th>\n",
       "      <th>DS</th>\n",
       "      <th>DP</th>\n",
       "      <th>DR</th>\n",
       "      <th>ASTV</th>\n",
       "      <th>MSTV</th>\n",
       "      <th>ALTV</th>\n",
       "      <th>MLTV</th>\n",
       "      <th>Width</th>\n",
       "      <th>Min</th>\n",
       "      <th>Max</th>\n",
       "      <th>Nmax</th>\n",
       "      <th>Nzeros</th>\n",
       "      <th>Mode</th>\n",
       "      <th>Mean</th>\n",
       "      <th>Median</th>\n",
       "      <th>Tendency</th>\n",
       "    </tr>\n",
       "  </thead>\n",
       "  <tbody>\n",
       "    <tr>\n",
       "      <th>count</th>\n",
       "      <td>1831.000000</td>\n",
       "      <td>1831.000000</td>\n",
       "      <td>1831.000000</td>\n",
       "      <td>1831.000000</td>\n",
       "      <td>1831.000000</td>\n",
       "      <td>1831.000000</td>\n",
       "      <td>1831.000000</td>\n",
       "      <td>1831.0</td>\n",
       "      <td>1831.000000</td>\n",
       "      <td>1831.000000</td>\n",
       "      <td>1831.000000</td>\n",
       "      <td>1831.000000</td>\n",
       "      <td>1831.000000</td>\n",
       "      <td>1831.000000</td>\n",
       "      <td>1831.000000</td>\n",
       "      <td>1831.000000</td>\n",
       "      <td>1831.000000</td>\n",
       "      <td>1831.000000</td>\n",
       "      <td>1831.000000</td>\n",
       "      <td>1831.000000</td>\n",
       "      <td>1831.000000</td>\n",
       "    </tr>\n",
       "    <tr>\n",
       "      <th>mean</th>\n",
       "      <td>131.953577</td>\n",
       "      <td>3.126707</td>\n",
       "      <td>7.265975</td>\n",
       "      <td>3.914801</td>\n",
       "      <td>1.758056</td>\n",
       "      <td>0.003823</td>\n",
       "      <td>0.135991</td>\n",
       "      <td>0.0</td>\n",
       "      <td>44.587657</td>\n",
       "      <td>1.444566</td>\n",
       "      <td>6.755871</td>\n",
       "      <td>8.213654</td>\n",
       "      <td>73.875478</td>\n",
       "      <td>90.403058</td>\n",
       "      <td>164.278536</td>\n",
       "      <td>4.190060</td>\n",
       "      <td>0.336428</td>\n",
       "      <td>135.985254</td>\n",
       "      <td>132.975423</td>\n",
       "      <td>136.643364</td>\n",
       "      <td>0.302021</td>\n",
       "    </tr>\n",
       "    <tr>\n",
       "      <th>std</th>\n",
       "      <td>9.450274</td>\n",
       "      <td>3.671676</td>\n",
       "      <td>36.953844</td>\n",
       "      <td>2.776040</td>\n",
       "      <td>2.605566</td>\n",
       "      <td>0.061729</td>\n",
       "      <td>0.484254</td>\n",
       "      <td>0.0</td>\n",
       "      <td>16.715290</td>\n",
       "      <td>0.863467</td>\n",
       "      <td>16.066764</td>\n",
       "      <td>5.874919</td>\n",
       "      <td>37.769546</td>\n",
       "      <td>28.060771</td>\n",
       "      <td>18.181356</td>\n",
       "      <td>2.906922</td>\n",
       "      <td>0.689008</td>\n",
       "      <td>16.634624</td>\n",
       "      <td>15.662176</td>\n",
       "      <td>14.499635</td>\n",
       "      <td>0.612253</td>\n",
       "    </tr>\n",
       "    <tr>\n",
       "      <th>min</th>\n",
       "      <td>106.000000</td>\n",
       "      <td>0.000000</td>\n",
       "      <td>0.000000</td>\n",
       "      <td>0.000000</td>\n",
       "      <td>0.000000</td>\n",
       "      <td>0.000000</td>\n",
       "      <td>0.000000</td>\n",
       "      <td>0.0</td>\n",
       "      <td>12.000000</td>\n",
       "      <td>0.200000</td>\n",
       "      <td>0.000000</td>\n",
       "      <td>0.000000</td>\n",
       "      <td>3.000000</td>\n",
       "      <td>50.000000</td>\n",
       "      <td>122.000000</td>\n",
       "      <td>0.000000</td>\n",
       "      <td>0.000000</td>\n",
       "      <td>60.000000</td>\n",
       "      <td>73.000000</td>\n",
       "      <td>77.000000</td>\n",
       "      <td>-1.000000</td>\n",
       "    </tr>\n",
       "    <tr>\n",
       "      <th>25%</th>\n",
       "      <td>125.000000</td>\n",
       "      <td>0.000000</td>\n",
       "      <td>0.000000</td>\n",
       "      <td>2.000000</td>\n",
       "      <td>0.000000</td>\n",
       "      <td>0.000000</td>\n",
       "      <td>0.000000</td>\n",
       "      <td>0.0</td>\n",
       "      <td>30.000000</td>\n",
       "      <td>0.800000</td>\n",
       "      <td>0.000000</td>\n",
       "      <td>4.200000</td>\n",
       "      <td>41.000000</td>\n",
       "      <td>65.000000</td>\n",
       "      <td>152.000000</td>\n",
       "      <td>2.000000</td>\n",
       "      <td>0.000000</td>\n",
       "      <td>127.000000</td>\n",
       "      <td>124.000000</td>\n",
       "      <td>127.000000</td>\n",
       "      <td>0.000000</td>\n",
       "    </tr>\n",
       "    <tr>\n",
       "      <th>50%</th>\n",
       "      <td>132.000000</td>\n",
       "      <td>2.000000</td>\n",
       "      <td>0.000000</td>\n",
       "      <td>4.000000</td>\n",
       "      <td>0.000000</td>\n",
       "      <td>0.000000</td>\n",
       "      <td>0.000000</td>\n",
       "      <td>0.0</td>\n",
       "      <td>44.000000</td>\n",
       "      <td>1.300000</td>\n",
       "      <td>0.000000</td>\n",
       "      <td>7.500000</td>\n",
       "      <td>73.000000</td>\n",
       "      <td>89.000000</td>\n",
       "      <td>163.000000</td>\n",
       "      <td>4.000000</td>\n",
       "      <td>0.000000</td>\n",
       "      <td>136.000000</td>\n",
       "      <td>134.000000</td>\n",
       "      <td>137.000000</td>\n",
       "      <td>0.000000</td>\n",
       "    </tr>\n",
       "    <tr>\n",
       "      <th>75%</th>\n",
       "      <td>138.000000</td>\n",
       "      <td>5.000000</td>\n",
       "      <td>2.000000</td>\n",
       "      <td>6.000000</td>\n",
       "      <td>3.000000</td>\n",
       "      <td>0.000000</td>\n",
       "      <td>0.000000</td>\n",
       "      <td>0.0</td>\n",
       "      <td>58.000000</td>\n",
       "      <td>1.800000</td>\n",
       "      <td>4.000000</td>\n",
       "      <td>11.100000</td>\n",
       "      <td>102.000000</td>\n",
       "      <td>115.000000</td>\n",
       "      <td>175.000000</td>\n",
       "      <td>6.000000</td>\n",
       "      <td>0.000000</td>\n",
       "      <td>147.000000</td>\n",
       "      <td>144.000000</td>\n",
       "      <td>147.000000</td>\n",
       "      <td>1.000000</td>\n",
       "    </tr>\n",
       "    <tr>\n",
       "      <th>max</th>\n",
       "      <td>160.000000</td>\n",
       "      <td>26.000000</td>\n",
       "      <td>564.000000</td>\n",
       "      <td>17.000000</td>\n",
       "      <td>16.000000</td>\n",
       "      <td>1.000000</td>\n",
       "      <td>4.000000</td>\n",
       "      <td>0.0</td>\n",
       "      <td>87.000000</td>\n",
       "      <td>7.000000</td>\n",
       "      <td>91.000000</td>\n",
       "      <td>50.700000</td>\n",
       "      <td>180.000000</td>\n",
       "      <td>159.000000</td>\n",
       "      <td>238.000000</td>\n",
       "      <td>18.000000</td>\n",
       "      <td>10.000000</td>\n",
       "      <td>187.000000</td>\n",
       "      <td>182.000000</td>\n",
       "      <td>186.000000</td>\n",
       "      <td>1.000000</td>\n",
       "    </tr>\n",
       "  </tbody>\n",
       "</table>\n",
       "</div>"
      ],
      "text/plain": [
       "                LB           AC  ...       Median     Tendency\n",
       "count  1831.000000  1831.000000  ...  1831.000000  1831.000000\n",
       "mean    131.953577     3.126707  ...   136.643364     0.302021\n",
       "std       9.450274     3.671676  ...    14.499635     0.612253\n",
       "min     106.000000     0.000000  ...    77.000000    -1.000000\n",
       "25%     125.000000     0.000000  ...   127.000000     0.000000\n",
       "50%     132.000000     2.000000  ...   137.000000     0.000000\n",
       "75%     138.000000     5.000000  ...   147.000000     1.000000\n",
       "max     160.000000    26.000000  ...   186.000000     1.000000\n",
       "\n",
       "[8 rows x 21 columns]"
      ]
     },
     "execution_count": 2,
     "metadata": {
      "tags": []
     },
     "output_type": "execute_result"
    }
   ],
   "source": [
    "data = pd.read_csv('CTG.csv', sep=',')\n",
    "data.describe()"
   ]
  },
  {
   "cell_type": "markdown",
   "metadata": {
    "id": "HzTfNngDoKmY"
   },
   "source": [
    "Посмотрим на распределения непрерывных признаков в классах:"
   ]
  },
  {
   "cell_type": "code",
   "execution_count": null,
   "metadata": {
    "id": "xtNoLy3IoKmY"
   },
   "outputs": [],
   "source": [
    "data_P = data[data.NSP =='P'].drop(columns=['NSP','DR'])\n",
    "data_X = data[data.NSP =='N'].drop(columns=['NSP','DR'])"
   ]
  },
  {
   "cell_type": "code",
   "execution_count": null,
   "metadata": {
    "colab": {
     "base_uri": "https://localhost:8080/",
     "height": 1000
    },
    "id": "K3i5DMA0oKmZ",
    "outputId": "71fdf142-63b5-4533-88bd-fd498427340e"
   },
   "outputs": [
    {
     "data": {
      "image/png": "[encoded data removed]",
      "text/plain": [
       "<Figure size 2160x1440 with 21 Axes>"
      ]
     },
     "metadata": {
      "needs_background": "light",
      "tags": []
     },
     "output_type": "display_data"
    }
   ],
   "source": [
    "fig, ax = plt.subplots(3, 7, figsize=(30,20))\n",
    "ax = ax.ravel() \n",
    "\n",
    "for idx in range(len(data_X.columns)):\n",
    "    sns.kdeplot(data_X.iloc[:,idx], ax = ax[idx])\n",
    "    sns.kdeplot(data_P.iloc[:,idx], ax = ax[idx])\n",
    "    ax[idx].legend(('Normal', 'Pathological'),loc='upper right')"
   ]
  },
  {
   "cell_type": "markdown",
   "metadata": {
    "id": "y0apyZdUoKmZ"
   },
   "source": [
    "Линейной разделимости по отдельным признакам нет."
   ]
  },
  {
   "cell_type": "markdown",
   "metadata": {
    "id": "aN1PTKOXoKmZ"
   },
   "source": [
    "Посмотрим на таблицы сопряжённости по категориальным признакам:"
   ]
  },
  {
   "cell_type": "code",
   "execution_count": null,
   "metadata": {
    "colab": {
     "base_uri": "https://localhost:8080/"
    },
    "id": "qk8-L1sKwJGN",
    "outputId": "7ad91407-2bb8-43f9-fb45-286aa59561d2"
   },
   "outputs": [
    {
     "data": {
      "text/plain": [
       "N    1655\n",
       "P     176\n",
       "Name: NSP, dtype: int64"
      ]
     },
     "execution_count": 5,
     "metadata": {
      "tags": []
     },
     "output_type": "execute_result"
    }
   ],
   "source": [
    "pd.value_counts(data.NSP)"
   ]
  },
  {
   "cell_type": "code",
   "execution_count": null,
   "metadata": {
    "colab": {
     "base_uri": "https://localhost:8080/",
     "height": 142
    },
    "id": "jf5a-hdboKma",
    "outputId": "074e2d80-21f5-47d1-8167-a71e6a3de268"
   },
   "outputs": [
    {
     "data": {
      "text/html": [
       "<div>\n",
       "<style scoped>\n",
       "    .dataframe tbody tr th:only-of-type {\n",
       "        vertical-align: middle;\n",
       "    }\n",
       "\n",
       "    .dataframe tbody tr th {\n",
       "        vertical-align: top;\n",
       "    }\n",
       "\n",
       "    .dataframe thead th {\n",
       "        text-align: right;\n",
       "    }\n",
       "</style>\n",
       "<table border=\"1\" class=\"dataframe\">\n",
       "  <thead>\n",
       "    <tr style=\"text-align: right;\">\n",
       "      <th>NSP</th>\n",
       "      <th>N</th>\n",
       "      <th>P</th>\n",
       "    </tr>\n",
       "    <tr>\n",
       "      <th>DS</th>\n",
       "      <th></th>\n",
       "      <th></th>\n",
       "    </tr>\n",
       "  </thead>\n",
       "  <tbody>\n",
       "    <tr>\n",
       "      <th>0</th>\n",
       "      <td>1654</td>\n",
       "      <td>170</td>\n",
       "    </tr>\n",
       "    <tr>\n",
       "      <th>1</th>\n",
       "      <td>1</td>\n",
       "      <td>6</td>\n",
       "    </tr>\n",
       "  </tbody>\n",
       "</table>\n",
       "</div>"
      ],
      "text/plain": [
       "NSP     N    P\n",
       "DS            \n",
       "0    1654  170\n",
       "1       1    6"
      ]
     },
     "execution_count": 6,
     "metadata": {
      "tags": []
     },
     "output_type": "execute_result"
    }
   ],
   "source": [
    "pd.crosstab(data.DS, data.NSP)"
   ]
  },
  {
   "cell_type": "code",
   "execution_count": null,
   "metadata": {
    "colab": {
     "base_uri": "https://localhost:8080/",
     "height": 111
    },
    "id": "krGw51ShoKma",
    "outputId": "35680bf3-0b5b-409d-8c98-aa2a01b31eac"
   },
   "outputs": [
    {
     "data": {
      "text/html": [
       "<div>\n",
       "<style scoped>\n",
       "    .dataframe tbody tr th:only-of-type {\n",
       "        vertical-align: middle;\n",
       "    }\n",
       "\n",
       "    .dataframe tbody tr th {\n",
       "        vertical-align: top;\n",
       "    }\n",
       "\n",
       "    .dataframe thead th {\n",
       "        text-align: right;\n",
       "    }\n",
       "</style>\n",
       "<table border=\"1\" class=\"dataframe\">\n",
       "  <thead>\n",
       "    <tr style=\"text-align: right;\">\n",
       "      <th>NSP</th>\n",
       "      <th>N</th>\n",
       "      <th>P</th>\n",
       "    </tr>\n",
       "    <tr>\n",
       "      <th>DR</th>\n",
       "      <th></th>\n",
       "      <th></th>\n",
       "    </tr>\n",
       "  </thead>\n",
       "  <tbody>\n",
       "    <tr>\n",
       "      <th>0</th>\n",
       "      <td>1655</td>\n",
       "      <td>176</td>\n",
       "    </tr>\n",
       "  </tbody>\n",
       "</table>\n",
       "</div>"
      ],
      "text/plain": [
       "NSP     N    P\n",
       "DR            \n",
       "0    1655  176"
      ]
     },
     "execution_count": 7,
     "metadata": {
      "tags": []
     },
     "output_type": "execute_result"
    }
   ],
   "source": [
    "pd.crosstab(data.DR, data.NSP)"
   ]
  },
  {
   "cell_type": "code",
   "execution_count": null,
   "metadata": {
    "colab": {
     "base_uri": "https://localhost:8080/",
     "height": 173
    },
    "id": "pINL94zqoKma",
    "outputId": "9f98e367-c48a-4fce-a4a3-445cce9dfa5e"
   },
   "outputs": [
    {
     "data": {
      "text/html": [
       "<div>\n",
       "<style scoped>\n",
       "    .dataframe tbody tr th:only-of-type {\n",
       "        vertical-align: middle;\n",
       "    }\n",
       "\n",
       "    .dataframe tbody tr th {\n",
       "        vertical-align: top;\n",
       "    }\n",
       "\n",
       "    .dataframe thead th {\n",
       "        text-align: right;\n",
       "    }\n",
       "</style>\n",
       "<table border=\"1\" class=\"dataframe\">\n",
       "  <thead>\n",
       "    <tr style=\"text-align: right;\">\n",
       "      <th>NSP</th>\n",
       "      <th>N</th>\n",
       "      <th>P</th>\n",
       "    </tr>\n",
       "    <tr>\n",
       "      <th>Tendency</th>\n",
       "      <th></th>\n",
       "      <th></th>\n",
       "    </tr>\n",
       "  </thead>\n",
       "  <tbody>\n",
       "    <tr>\n",
       "      <th>-1</th>\n",
       "      <td>101</td>\n",
       "      <td>49</td>\n",
       "    </tr>\n",
       "    <tr>\n",
       "      <th>0</th>\n",
       "      <td>887</td>\n",
       "      <td>91</td>\n",
       "    </tr>\n",
       "    <tr>\n",
       "      <th>1</th>\n",
       "      <td>667</td>\n",
       "      <td>36</td>\n",
       "    </tr>\n",
       "  </tbody>\n",
       "</table>\n",
       "</div>"
      ],
      "text/plain": [
       "NSP         N   P\n",
       "Tendency         \n",
       "-1        101  49\n",
       " 0        887  91\n",
       " 1        667  36"
      ]
     },
     "execution_count": 8,
     "metadata": {
      "tags": []
     },
     "output_type": "execute_result"
    }
   ],
   "source": [
    "pd.crosstab(data.Tendency, data.NSP)"
   ]
  },
  {
   "cell_type": "markdown",
   "metadata": {
    "id": "Emsb_0W4oKma"
   },
   "source": [
    "DR — константа, DS — почти константа, поэтому удалим эти признаки."
   ]
  },
  {
   "cell_type": "code",
   "execution_count": null,
   "metadata": {
    "id": "cQy0fP80oKmb"
   },
   "outputs": [],
   "source": [
    "data = data.drop(columns = ['DR', 'DS'])"
   ]
  },
  {
   "cell_type": "markdown",
   "metadata": {
    "id": "MrVyAamioKmb"
   },
   "source": [
    "Для предварительного отбора признаков построим одномерные модели по каждому фактору и оценим их значимость:"
   ]
  },
  {
   "cell_type": "code",
   "execution_count": null,
   "metadata": {
    "id": "HgdyzVkYoKmb"
   },
   "outputs": [],
   "source": [
    "data[\"NSP\"] = (data[\"NSP\"] == \"P\").astype(int)"
   ]
  },
  {
   "cell_type": "code",
   "execution_count": null,
   "metadata": {
    "colab": {
     "base_uri": "https://localhost:8080/",
     "height": 269
    },
    "id": "Hmd7NMUGoKmb",
    "outputId": "a1f8e963-b231-4c71-88ed-956a5623aba7"
   },
   "outputs": [
    {
     "data": {
      "text/html": [
       "<table class=\"simpletable\">\n",
       "<caption>Generalized Linear Model Regression Results</caption>\n",
       "<tr>\n",
       "  <th>Dep. Variable:</th>          <td>NSP</td>       <th>  No. Observations:  </th>  <td>  1831</td> \n",
       "</tr>\n",
       "<tr>\n",
       "  <th>Model:</th>                  <td>GLM</td>       <th>  Df Residuals:      </th>  <td>  1830</td> \n",
       "</tr>\n",
       "<tr>\n",
       "  <th>Model Family:</th>        <td>Binomial</td>     <th>  Df Model:          </th>  <td>     0</td> \n",
       "</tr>\n",
       "<tr>\n",
       "  <th>Link Function:</th>         <td>logit</td>      <th>  Scale:             </th> <td>  1.0000</td>\n",
       "</tr>\n",
       "<tr>\n",
       "  <th>Method:</th>                <td>IRLS</td>       <th>  Log-Likelihood:    </th> <td> -579.47</td>\n",
       "</tr>\n",
       "<tr>\n",
       "  <th>Date:</th>            <td>Thu, 01 Apr 2021</td> <th>  Deviance:          </th> <td>  1158.9</td>\n",
       "</tr>\n",
       "<tr>\n",
       "  <th>Time:</th>                <td>21:45:31</td>     <th>  Pearson chi2:      </th> <td>1.83e+03</td>\n",
       "</tr>\n",
       "<tr>\n",
       "  <th>No. Iterations:</th>          <td>5</td>        <th>                     </th>     <td> </td>   \n",
       "</tr>\n",
       "<tr>\n",
       "  <th>Covariance Type:</th>     <td>nonrobust</td>    <th>                     </th>     <td> </td>   \n",
       "</tr>\n",
       "</table>\n",
       "<table class=\"simpletable\">\n",
       "<tr>\n",
       "      <td></td>         <th>coef</th>     <th>std err</th>      <th>z</th>      <th>P>|z|</th>  <th>[0.025</th>    <th>0.975]</th>  \n",
       "</tr>\n",
       "<tr>\n",
       "  <th>Intercept</th> <td>   -2.2411</td> <td>    0.079</td> <td>  -28.266</td> <td> 0.000</td> <td>   -2.396</td> <td>   -2.086</td>\n",
       "</tr>\n",
       "</table>"
      ],
      "text/plain": [
       "<class 'statsmodels.iolib.summary.Summary'>\n",
       "\"\"\"\n",
       "                 Generalized Linear Model Regression Results                  \n",
       "==============================================================================\n",
       "Dep. Variable:                    NSP   No. Observations:                 1831\n",
       "Model:                            GLM   Df Residuals:                     1830\n",
       "Model Family:                Binomial   Df Model:                            0\n",
       "Link Function:                  logit   Scale:                          1.0000\n",
       "Method:                          IRLS   Log-Likelihood:                -579.47\n",
       "Date:                Thu, 01 Apr 2021   Deviance:                       1158.9\n",
       "Time:                        21:45:31   Pearson chi2:                 1.83e+03\n",
       "No. Iterations:                     5                                         \n",
       "Covariance Type:            nonrobust                                         \n",
       "==============================================================================\n",
       "                 coef    std err          z      P>|z|      [0.025      0.975]\n",
       "------------------------------------------------------------------------------\n",
       "Intercept     -2.2411      0.079    -28.266      0.000      -2.396      -2.086\n",
       "==============================================================================\n",
       "\"\"\""
      ]
     },
     "execution_count": 11,
     "metadata": {
      "tags": []
     },
     "output_type": "execute_result"
    }
   ],
   "source": [
    "m0 = smf.glm('NSP ~ 1',\n",
    "             data, family=sm.families.Binomial())\n",
    "result_m0 = m0.fit()\n",
    "result_m0.summary()"
   ]
  },
  {
   "cell_type": "code",
   "execution_count": null,
   "metadata": {
    "id": "2a5D9NRjoKmb"
   },
   "outputs": [],
   "source": [
    "#likelihood ratio\n",
    "def lrtest(lmin, lmax):\n",
    "    return(2*(lmax-lmin))"
   ]
  },
  {
   "cell_type": "code",
   "execution_count": null,
   "metadata": {
    "colab": {
     "base_uri": "https://localhost:8080/",
     "height": 638
    },
    "id": "35fAGh84oKmc",
    "outputId": "249e5b3a-a3e8-4d4a-a43f-d2a47ebf7e58"
   },
   "outputs": [
    {
     "data": {
      "text/html": [
       "<div>\n",
       "<style scoped>\n",
       "    .dataframe tbody tr th:only-of-type {\n",
       "        vertical-align: middle;\n",
       "    }\n",
       "\n",
       "    .dataframe tbody tr th {\n",
       "        vertical-align: top;\n",
       "    }\n",
       "\n",
       "    .dataframe thead th {\n",
       "        text-align: right;\n",
       "    }\n",
       "</style>\n",
       "<table border=\"1\" class=\"dataframe\">\n",
       "  <thead>\n",
       "    <tr style=\"text-align: right;\">\n",
       "      <th></th>\n",
       "      <th>features</th>\n",
       "      <th>p-val</th>\n",
       "    </tr>\n",
       "  </thead>\n",
       "  <tbody>\n",
       "    <tr>\n",
       "      <th>0</th>\n",
       "      <td>LB</td>\n",
       "      <td>0.694</td>\n",
       "    </tr>\n",
       "    <tr>\n",
       "      <th>1</th>\n",
       "      <td>AC</td>\n",
       "      <td>0.000</td>\n",
       "    </tr>\n",
       "    <tr>\n",
       "      <th>2</th>\n",
       "      <td>FM</td>\n",
       "      <td>0.009</td>\n",
       "    </tr>\n",
       "    <tr>\n",
       "      <th>3</th>\n",
       "      <td>UC</td>\n",
       "      <td>0.001</td>\n",
       "    </tr>\n",
       "    <tr>\n",
       "      <th>4</th>\n",
       "      <td>DL</td>\n",
       "      <td>0.000</td>\n",
       "    </tr>\n",
       "    <tr>\n",
       "      <th>5</th>\n",
       "      <td>DP</td>\n",
       "      <td>0.000</td>\n",
       "    </tr>\n",
       "    <tr>\n",
       "      <th>6</th>\n",
       "      <td>ASTV</td>\n",
       "      <td>0.000</td>\n",
       "    </tr>\n",
       "    <tr>\n",
       "      <th>7</th>\n",
       "      <td>MSTV</td>\n",
       "      <td>0.041</td>\n",
       "    </tr>\n",
       "    <tr>\n",
       "      <th>8</th>\n",
       "      <td>ALTV</td>\n",
       "      <td>0.000</td>\n",
       "    </tr>\n",
       "    <tr>\n",
       "      <th>9</th>\n",
       "      <td>MLTV</td>\n",
       "      <td>0.000</td>\n",
       "    </tr>\n",
       "    <tr>\n",
       "      <th>10</th>\n",
       "      <td>Width</td>\n",
       "      <td>0.100</td>\n",
       "    </tr>\n",
       "    <tr>\n",
       "      <th>11</th>\n",
       "      <td>Min</td>\n",
       "      <td>0.001</td>\n",
       "    </tr>\n",
       "    <tr>\n",
       "      <th>12</th>\n",
       "      <td>Max</td>\n",
       "      <td>0.131</td>\n",
       "    </tr>\n",
       "    <tr>\n",
       "      <th>13</th>\n",
       "      <td>Nmax</td>\n",
       "      <td>0.229</td>\n",
       "    </tr>\n",
       "    <tr>\n",
       "      <th>14</th>\n",
       "      <td>Nzeros</td>\n",
       "      <td>0.838</td>\n",
       "    </tr>\n",
       "    <tr>\n",
       "      <th>15</th>\n",
       "      <td>Mode</td>\n",
       "      <td>0.000</td>\n",
       "    </tr>\n",
       "    <tr>\n",
       "      <th>16</th>\n",
       "      <td>Mean</td>\n",
       "      <td>0.000</td>\n",
       "    </tr>\n",
       "    <tr>\n",
       "      <th>17</th>\n",
       "      <td>Median</td>\n",
       "      <td>0.000</td>\n",
       "    </tr>\n",
       "    <tr>\n",
       "      <th>18</th>\n",
       "      <td>Tendency</td>\n",
       "      <td>0.000</td>\n",
       "    </tr>\n",
       "  </tbody>\n",
       "</table>\n",
       "</div>"
      ],
      "text/plain": [
       "    features  p-val\n",
       "0         LB  0.694\n",
       "1         AC  0.000\n",
       "2         FM  0.009\n",
       "3         UC  0.001\n",
       "4         DL  0.000\n",
       "5         DP  0.000\n",
       "6       ASTV  0.000\n",
       "7       MSTV  0.041\n",
       "8       ALTV  0.000\n",
       "9       MLTV  0.000\n",
       "10     Width  0.100\n",
       "11       Min  0.001\n",
       "12       Max  0.131\n",
       "13      Nmax  0.229\n",
       "14    Nzeros  0.838\n",
       "15      Mode  0.000\n",
       "16      Mean  0.000\n",
       "17    Median  0.000\n",
       "18  Tendency  0.000"
      ]
     },
     "execution_count": 13,
     "metadata": {
      "tags": []
     },
     "output_type": "execute_result"
    }
   ],
   "source": [
    "Single_term = pd.DataFrame(columns=['features', 'p-val'])\n",
    "for i in data.drop(columns = ['NSP']).columns:\n",
    "    formula = 'NSP ~ 1 +' + i\n",
    "    model = sm.formula.glm(formula,\n",
    "                           family=sm.families.Binomial(), \n",
    "                           data=data).fit()\n",
    "    lr = lrtest(result_m0.llf, model .llf)\n",
    "    Single_term = Single_term.append({'features': i, 'p-val':  round(chi2.sf(lr, 1), 3)}, ignore_index=True)\n",
    "Single_term"
   ]
  },
  {
   "cell_type": "markdown",
   "metadata": {
    "id": "G6aweacioKmc"
   },
   "source": [
    "## Модель 1\n",
    "Многомерная модель со всеми предикторами, значимыми на уровне 0.25:"
   ]
  },
  {
   "cell_type": "code",
   "execution_count": null,
   "metadata": {
    "id": "bTQY6YO8oKmc"
   },
   "outputs": [],
   "source": [
    "data = data.drop(columns=['LB', 'Nzeros'])"
   ]
  },
  {
   "cell_type": "code",
   "execution_count": null,
   "metadata": {
    "id": "F3dRbuKaoKmc"
   },
   "outputs": [],
   "source": [
    "data['const'] = [1] * data.shape[0]\n",
    "data['Tendency1']=1*(data.Tendency==1)\n",
    "data['Tendency-1']=1*(data.Tendency==-1)\n",
    "tendency = data['Tendency']\n",
    "data = data.drop(columns = ['Tendency'])"
   ]
  },
  {
   "cell_type": "code",
   "execution_count": null,
   "metadata": {
    "colab": {
     "base_uri": "https://localhost:8080/",
     "height": 647
    },
    "id": "wnOtvHNUoKmd",
    "outputId": "8639e02f-a34e-4568-819c-a892d4986385"
   },
   "outputs": [
    {
     "data": {
      "text/html": [
       "<table class=\"simpletable\">\n",
       "<caption>Generalized Linear Model Regression Results</caption>\n",
       "<tr>\n",
       "  <th>Dep. Variable:</th>          <td>NSP</td>       <th>  No. Observations:  </th>  <td>  1831</td> \n",
       "</tr>\n",
       "<tr>\n",
       "  <th>Model:</th>                  <td>GLM</td>       <th>  Df Residuals:      </th>  <td>  1813</td> \n",
       "</tr>\n",
       "<tr>\n",
       "  <th>Model Family:</th>        <td>Binomial</td>     <th>  Df Model:          </th>  <td>    17</td> \n",
       "</tr>\n",
       "<tr>\n",
       "  <th>Link Function:</th>         <td>logit</td>      <th>  Scale:             </th> <td>  1.0000</td>\n",
       "</tr>\n",
       "<tr>\n",
       "  <th>Method:</th>                <td>IRLS</td>       <th>  Log-Likelihood:    </th> <td> -84.573</td>\n",
       "</tr>\n",
       "<tr>\n",
       "  <th>Date:</th>            <td>Thu, 01 Apr 2021</td> <th>  Deviance:          </th> <td>  169.15</td>\n",
       "</tr>\n",
       "<tr>\n",
       "  <th>Time:</th>                <td>21:45:46</td>     <th>  Pearson chi2:      </th> <td>1.62e+03</td>\n",
       "</tr>\n",
       "<tr>\n",
       "  <th>No. Iterations:</th>         <td>11</td>        <th>                     </th>     <td> </td>   \n",
       "</tr>\n",
       "<tr>\n",
       "  <th>Covariance Type:</th>     <td>nonrobust</td>    <th>                     </th>     <td> </td>   \n",
       "</tr>\n",
       "</table>\n",
       "<table class=\"simpletable\">\n",
       "<tr>\n",
       "       <td></td>         <th>coef</th>     <th>std err</th>      <th>z</th>      <th>P>|z|</th>  <th>[0.025</th>    <th>0.975]</th>  \n",
       "</tr>\n",
       "<tr>\n",
       "  <th>AC</th>         <td>   -1.6081</td> <td>    0.413</td> <td>   -3.894</td> <td> 0.000</td> <td>   -2.418</td> <td>   -0.799</td>\n",
       "</tr>\n",
       "<tr>\n",
       "  <th>FM</th>         <td>    0.0138</td> <td>    0.006</td> <td>    2.343</td> <td> 0.019</td> <td>    0.002</td> <td>    0.025</td>\n",
       "</tr>\n",
       "<tr>\n",
       "  <th>UC</th>         <td>   -0.6939</td> <td>    0.114</td> <td>   -6.076</td> <td> 0.000</td> <td>   -0.918</td> <td>   -0.470</td>\n",
       "</tr>\n",
       "<tr>\n",
       "  <th>DL</th>         <td>    0.1436</td> <td>    0.120</td> <td>    1.198</td> <td> 0.231</td> <td>   -0.091</td> <td>    0.378</td>\n",
       "</tr>\n",
       "<tr>\n",
       "  <th>DP</th>         <td>    4.7699</td> <td>    0.678</td> <td>    7.033</td> <td> 0.000</td> <td>    3.441</td> <td>    6.099</td>\n",
       "</tr>\n",
       "<tr>\n",
       "  <th>ASTV</th>       <td>    0.1406</td> <td>    0.021</td> <td>    6.642</td> <td> 0.000</td> <td>    0.099</td> <td>    0.182</td>\n",
       "</tr>\n",
       "<tr>\n",
       "  <th>MSTV</th>       <td>    0.4087</td> <td>    0.422</td> <td>    0.970</td> <td> 0.332</td> <td>   -0.417</td> <td>    1.235</td>\n",
       "</tr>\n",
       "<tr>\n",
       "  <th>ALTV</th>       <td>    0.0767</td> <td>    0.013</td> <td>    5.706</td> <td> 0.000</td> <td>    0.050</td> <td>    0.103</td>\n",
       "</tr>\n",
       "<tr>\n",
       "  <th>MLTV</th>       <td>   -0.0180</td> <td>    0.065</td> <td>   -0.277</td> <td> 0.782</td> <td>   -0.145</td> <td>    0.109</td>\n",
       "</tr>\n",
       "<tr>\n",
       "  <th>Width</th>      <td>    0.0380</td> <td>    0.009</td> <td>    4.323</td> <td> 0.000</td> <td>    0.021</td> <td>    0.055</td>\n",
       "</tr>\n",
       "<tr>\n",
       "  <th>Min</th>        <td>    0.0370</td> <td>    0.014</td> <td>    2.576</td> <td> 0.010</td> <td>    0.009</td> <td>    0.065</td>\n",
       "</tr>\n",
       "<tr>\n",
       "  <th>Max</th>        <td>    0.0750</td> <td>    0.017</td> <td>    4.534</td> <td> 0.000</td> <td>    0.043</td> <td>    0.107</td>\n",
       "</tr>\n",
       "<tr>\n",
       "  <th>Nmax</th>       <td>   -0.5866</td> <td>    0.169</td> <td>   -3.470</td> <td> 0.001</td> <td>   -0.918</td> <td>   -0.255</td>\n",
       "</tr>\n",
       "<tr>\n",
       "  <th>Mode</th>       <td>   -0.1048</td> <td>    0.030</td> <td>   -3.457</td> <td> 0.001</td> <td>   -0.164</td> <td>   -0.045</td>\n",
       "</tr>\n",
       "<tr>\n",
       "  <th>Mean</th>       <td>    0.0343</td> <td>    0.047</td> <td>    0.736</td> <td> 0.462</td> <td>   -0.057</td> <td>    0.126</td>\n",
       "</tr>\n",
       "<tr>\n",
       "  <th>Median</th>     <td>   -0.1008</td> <td>    0.047</td> <td>   -2.132</td> <td> 0.033</td> <td>   -0.193</td> <td>   -0.008</td>\n",
       "</tr>\n",
       "<tr>\n",
       "  <th>const</th>      <td>   -4.4965</td> <td>    3.387</td> <td>   -1.328</td> <td> 0.184</td> <td>  -11.135</td> <td>    2.142</td>\n",
       "</tr>\n",
       "<tr>\n",
       "  <th>Tendency1</th>  <td>    1.8618</td> <td>    0.634</td> <td>    2.939</td> <td> 0.003</td> <td>    0.620</td> <td>    3.104</td>\n",
       "</tr>\n",
       "<tr>\n",
       "  <th>Tendency-1</th> <td>   -2.0489</td> <td>    0.813</td> <td>   -2.522</td> <td> 0.012</td> <td>   -3.641</td> <td>   -0.456</td>\n",
       "</tr>\n",
       "</table>"
      ],
      "text/plain": [
       "<class 'statsmodels.iolib.summary.Summary'>\n",
       "\"\"\"\n",
       "                 Generalized Linear Model Regression Results                  \n",
       "==============================================================================\n",
       "Dep. Variable:                    NSP   No. Observations:                 1831\n",
       "Model:                            GLM   Df Residuals:                     1813\n",
       "Model Family:                Binomial   Df Model:                           17\n",
       "Link Function:                  logit   Scale:                          1.0000\n",
       "Method:                          IRLS   Log-Likelihood:                -84.573\n",
       "Date:                Thu, 01 Apr 2021   Deviance:                       169.15\n",
       "Time:                        21:45:46   Pearson chi2:                 1.62e+03\n",
       "No. Iterations:                    11                                         \n",
       "Covariance Type:            nonrobust                                         \n",
       "==============================================================================\n",
       "                 coef    std err          z      P>|z|      [0.025      0.975]\n",
       "------------------------------------------------------------------------------\n",
       "AC            -1.6081      0.413     -3.894      0.000      -2.418      -0.799\n",
       "FM             0.0138      0.006      2.343      0.019       0.002       0.025\n",
       "UC            -0.6939      0.114     -6.076      0.000      -0.918      -0.470\n",
       "DL             0.1436      0.120      1.198      0.231      -0.091       0.378\n",
       "DP             4.7699      0.678      7.033      0.000       3.441       6.099\n",
       "ASTV           0.1406      0.021      6.642      0.000       0.099       0.182\n",
       "MSTV           0.4087      0.422      0.970      0.332      -0.417       1.235\n",
       "ALTV           0.0767      0.013      5.706      0.000       0.050       0.103\n",
       "MLTV          -0.0180      0.065     -0.277      0.782      -0.145       0.109\n",
       "Width          0.0380      0.009      4.323      0.000       0.021       0.055\n",
       "Min            0.0370      0.014      2.576      0.010       0.009       0.065\n",
       "Max            0.0750      0.017      4.534      0.000       0.043       0.107\n",
       "Nmax          -0.5866      0.169     -3.470      0.001      -0.918      -0.255\n",
       "Mode          -0.1048      0.030     -3.457      0.001      -0.164      -0.045\n",
       "Mean           0.0343      0.047      0.736      0.462      -0.057       0.126\n",
       "Median        -0.1008      0.047     -2.132      0.033      -0.193      -0.008\n",
       "const         -4.4965      3.387     -1.328      0.184     -11.135       2.142\n",
       "Tendency1      1.8618      0.634      2.939      0.003       0.620       3.104\n",
       "Tendency-1    -2.0489      0.813     -2.522      0.012      -3.641      -0.456\n",
       "==============================================================================\n",
       "\"\"\""
      ]
     },
     "execution_count": 16,
     "metadata": {
      "tags": []
     },
     "output_type": "execute_result"
    }
   ],
   "source": [
    "m1 = sm.GLM(data.NSP, data.drop(columns=['NSP']),\n",
    "                       family=sm.families.Binomial())\n",
    "result_m1 = m1.fit()\n",
    "result_m1.summary()"
   ]
  },
  {
   "cell_type": "markdown",
   "metadata": {
    "id": "u-QJI27FoKmd"
   },
   "source": [
    "Проверим признаки на коллинеарность. Для этого подсчитаем коэффициент VIF(variance inflation factor):"
   ]
  },
  {
   "cell_type": "code",
   "execution_count": null,
   "metadata": {
    "colab": {
     "base_uri": "https://localhost:8080/",
     "height": 672
    },
    "id": "BOvrJ38joKmd",
    "outputId": "f383afc2-09e5-48ff-fd7b-720eb18a1a9a"
   },
   "outputs": [
    {
     "name": "stderr",
     "output_type": "stream",
     "text": [
      "/usr/local/lib/python3.7/dist-packages/statsmodels/stats/outliers_influence.py:185: RuntimeWarning: divide by zero encountered in double_scalars\n",
      "  vif = 1. / (1. - r_squared_i)\n"
     ]
    },
    {
     "data": {
      "text/html": [
       "<div>\n",
       "<style scoped>\n",
       "    .dataframe tbody tr th:only-of-type {\n",
       "        vertical-align: middle;\n",
       "    }\n",
       "\n",
       "    .dataframe tbody tr th {\n",
       "        vertical-align: top;\n",
       "    }\n",
       "\n",
       "    .dataframe thead th {\n",
       "        text-align: right;\n",
       "    }\n",
       "</style>\n",
       "<table border=\"1\" class=\"dataframe\">\n",
       "  <thead>\n",
       "    <tr style=\"text-align: right;\">\n",
       "      <th></th>\n",
       "      <th>features</th>\n",
       "      <th>VIF Factor</th>\n",
       "    </tr>\n",
       "  </thead>\n",
       "  <tbody>\n",
       "    <tr>\n",
       "      <th>0</th>\n",
       "      <td>AC</td>\n",
       "      <td>1.844564</td>\n",
       "    </tr>\n",
       "    <tr>\n",
       "      <th>1</th>\n",
       "      <td>FM</td>\n",
       "      <td>1.092199</td>\n",
       "    </tr>\n",
       "    <tr>\n",
       "      <th>2</th>\n",
       "      <td>UC</td>\n",
       "      <td>1.296282</td>\n",
       "    </tr>\n",
       "    <tr>\n",
       "      <th>3</th>\n",
       "      <td>DL</td>\n",
       "      <td>2.480005</td>\n",
       "    </tr>\n",
       "    <tr>\n",
       "      <th>4</th>\n",
       "      <td>DP</td>\n",
       "      <td>1.683562</td>\n",
       "    </tr>\n",
       "    <tr>\n",
       "      <th>5</th>\n",
       "      <td>ASTV</td>\n",
       "      <td>1.599821</td>\n",
       "    </tr>\n",
       "    <tr>\n",
       "      <th>6</th>\n",
       "      <td>MSTV</td>\n",
       "      <td>2.489409</td>\n",
       "    </tr>\n",
       "    <tr>\n",
       "      <th>7</th>\n",
       "      <td>ALTV</td>\n",
       "      <td>1.530505</td>\n",
       "    </tr>\n",
       "    <tr>\n",
       "      <th>8</th>\n",
       "      <td>MLTV</td>\n",
       "      <td>1.668546</td>\n",
       "    </tr>\n",
       "    <tr>\n",
       "      <th>9</th>\n",
       "      <td>Width</td>\n",
       "      <td>inf</td>\n",
       "    </tr>\n",
       "    <tr>\n",
       "      <th>10</th>\n",
       "      <td>Min</td>\n",
       "      <td>inf</td>\n",
       "    </tr>\n",
       "    <tr>\n",
       "      <th>11</th>\n",
       "      <td>Max</td>\n",
       "      <td>inf</td>\n",
       "    </tr>\n",
       "    <tr>\n",
       "      <th>12</th>\n",
       "      <td>Nmax</td>\n",
       "      <td>2.267625</td>\n",
       "    </tr>\n",
       "    <tr>\n",
       "      <th>13</th>\n",
       "      <td>Mode</td>\n",
       "      <td>8.136918</td>\n",
       "    </tr>\n",
       "    <tr>\n",
       "      <th>14</th>\n",
       "      <td>Mean</td>\n",
       "      <td>18.311531</td>\n",
       "    </tr>\n",
       "    <tr>\n",
       "      <th>15</th>\n",
       "      <td>Median</td>\n",
       "      <td>21.405758</td>\n",
       "    </tr>\n",
       "    <tr>\n",
       "      <th>16</th>\n",
       "      <td>const</td>\n",
       "      <td>218.725737</td>\n",
       "    </tr>\n",
       "    <tr>\n",
       "      <th>17</th>\n",
       "      <td>Tendency1</td>\n",
       "      <td>2.286876</td>\n",
       "    </tr>\n",
       "    <tr>\n",
       "      <th>18</th>\n",
       "      <td>Tendency-1</td>\n",
       "      <td>1.601247</td>\n",
       "    </tr>\n",
       "  </tbody>\n",
       "</table>\n",
       "</div>"
      ],
      "text/plain": [
       "      features  VIF Factor\n",
       "0           AC    1.844564\n",
       "1           FM    1.092199\n",
       "2           UC    1.296282\n",
       "3           DL    2.480005\n",
       "4           DP    1.683562\n",
       "5         ASTV    1.599821\n",
       "6         MSTV    2.489409\n",
       "7         ALTV    1.530505\n",
       "8         MLTV    1.668546\n",
       "9        Width         inf\n",
       "10         Min         inf\n",
       "11         Max         inf\n",
       "12        Nmax    2.267625\n",
       "13        Mode    8.136918\n",
       "14        Mean   18.311531\n",
       "15      Median   21.405758\n",
       "16       const  218.725737\n",
       "17   Tendency1    2.286876\n",
       "18  Tendency-1    1.601247"
      ]
     },
     "execution_count": 17,
     "metadata": {
      "tags": []
     },
     "output_type": "execute_result"
    }
   ],
   "source": [
    "VIF = pd.DataFrame(columns=['features', 'VIF Factor'])\n",
    "variables = result_m1.model.exog\n",
    "for i in range(variables.shape[1]):\n",
    "    VIF = VIF.append({'features':result_m1.params.index[i] , 'VIF Factor': variance_inflation_factor(variables, i)}, ignore_index=True)\n",
    "VIF"
   ]
  },
  {
   "cell_type": "markdown",
   "metadata": {
    "id": "CfIdHDMsoKmd"
   },
   "source": [
    "По всей видимости, коллинеарны признаки в группе Width, Min и Max. Удалим, к примеру, Width."
   ]
  },
  {
   "cell_type": "markdown",
   "metadata": {
    "id": "SXuhc0cqoKme"
   },
   "source": [
    "## Модель 2"
   ]
  },
  {
   "cell_type": "markdown",
   "metadata": {
    "id": "OHRFUd-doKme"
   },
   "source": [
    "Попробуем улучшить результат. "
   ]
  },
  {
   "cell_type": "code",
   "execution_count": null,
   "metadata": {
    "id": "uec_g88FoKme"
   },
   "outputs": [],
   "source": [
    "data = data.drop(columns = ['Width'])"
   ]
  },
  {
   "cell_type": "code",
   "execution_count": null,
   "metadata": {
    "colab": {
     "base_uri": "https://localhost:8080/",
     "height": 626
    },
    "id": "V9-Yjd_roKme",
    "outputId": "001ee9bc-80db-480d-f4fe-ac5208571b77"
   },
   "outputs": [
    {
     "data": {
      "text/html": [
       "<table class=\"simpletable\">\n",
       "<caption>Generalized Linear Model Regression Results</caption>\n",
       "<tr>\n",
       "  <th>Dep. Variable:</th>          <td>NSP</td>       <th>  No. Observations:  </th>  <td>  1831</td> \n",
       "</tr>\n",
       "<tr>\n",
       "  <th>Model:</th>                  <td>GLM</td>       <th>  Df Residuals:      </th>  <td>  1813</td> \n",
       "</tr>\n",
       "<tr>\n",
       "  <th>Model Family:</th>        <td>Binomial</td>     <th>  Df Model:          </th>  <td>    17</td> \n",
       "</tr>\n",
       "<tr>\n",
       "  <th>Link Function:</th>         <td>logit</td>      <th>  Scale:             </th> <td>  1.0000</td>\n",
       "</tr>\n",
       "<tr>\n",
       "  <th>Method:</th>                <td>IRLS</td>       <th>  Log-Likelihood:    </th> <td> -84.573</td>\n",
       "</tr>\n",
       "<tr>\n",
       "  <th>Date:</th>            <td>Thu, 01 Apr 2021</td> <th>  Deviance:          </th> <td>  169.15</td>\n",
       "</tr>\n",
       "<tr>\n",
       "  <th>Time:</th>                <td>21:45:53</td>     <th>  Pearson chi2:      </th> <td>1.62e+03</td>\n",
       "</tr>\n",
       "<tr>\n",
       "  <th>No. Iterations:</th>         <td>11</td>        <th>                     </th>     <td> </td>   \n",
       "</tr>\n",
       "<tr>\n",
       "  <th>Covariance Type:</th>     <td>nonrobust</td>    <th>                     </th>     <td> </td>   \n",
       "</tr>\n",
       "</table>\n",
       "<table class=\"simpletable\">\n",
       "<tr>\n",
       "       <td></td>         <th>coef</th>     <th>std err</th>      <th>z</th>      <th>P>|z|</th>  <th>[0.025</th>    <th>0.975]</th>  \n",
       "</tr>\n",
       "<tr>\n",
       "  <th>AC</th>         <td>   -1.6081</td> <td>    0.413</td> <td>   -3.894</td> <td> 0.000</td> <td>   -2.418</td> <td>   -0.799</td>\n",
       "</tr>\n",
       "<tr>\n",
       "  <th>FM</th>         <td>    0.0138</td> <td>    0.006</td> <td>    2.343</td> <td> 0.019</td> <td>    0.002</td> <td>    0.025</td>\n",
       "</tr>\n",
       "<tr>\n",
       "  <th>UC</th>         <td>   -0.6939</td> <td>    0.114</td> <td>   -6.076</td> <td> 0.000</td> <td>   -0.918</td> <td>   -0.470</td>\n",
       "</tr>\n",
       "<tr>\n",
       "  <th>DL</th>         <td>    0.1436</td> <td>    0.120</td> <td>    1.198</td> <td> 0.231</td> <td>   -0.091</td> <td>    0.378</td>\n",
       "</tr>\n",
       "<tr>\n",
       "  <th>DP</th>         <td>    4.7699</td> <td>    0.678</td> <td>    7.033</td> <td> 0.000</td> <td>    3.441</td> <td>    6.099</td>\n",
       "</tr>\n",
       "<tr>\n",
       "  <th>ASTV</th>       <td>    0.1406</td> <td>    0.021</td> <td>    6.642</td> <td> 0.000</td> <td>    0.099</td> <td>    0.182</td>\n",
       "</tr>\n",
       "<tr>\n",
       "  <th>MSTV</th>       <td>    0.4087</td> <td>    0.422</td> <td>    0.970</td> <td> 0.332</td> <td>   -0.417</td> <td>    1.235</td>\n",
       "</tr>\n",
       "<tr>\n",
       "  <th>ALTV</th>       <td>    0.0767</td> <td>    0.013</td> <td>    5.706</td> <td> 0.000</td> <td>    0.050</td> <td>    0.103</td>\n",
       "</tr>\n",
       "<tr>\n",
       "  <th>MLTV</th>       <td>   -0.0180</td> <td>    0.065</td> <td>   -0.277</td> <td> 0.782</td> <td>   -0.145</td> <td>    0.109</td>\n",
       "</tr>\n",
       "<tr>\n",
       "  <th>Min</th>        <td>   -0.0010</td> <td>    0.017</td> <td>   -0.059</td> <td> 0.953</td> <td>   -0.035</td> <td>    0.033</td>\n",
       "</tr>\n",
       "<tr>\n",
       "  <th>Max</th>        <td>    0.1129</td> <td>    0.022</td> <td>    5.076</td> <td> 0.000</td> <td>    0.069</td> <td>    0.157</td>\n",
       "</tr>\n",
       "<tr>\n",
       "  <th>Nmax</th>       <td>   -0.5866</td> <td>    0.169</td> <td>   -3.470</td> <td> 0.001</td> <td>   -0.918</td> <td>   -0.255</td>\n",
       "</tr>\n",
       "<tr>\n",
       "  <th>Mode</th>       <td>   -0.1048</td> <td>    0.030</td> <td>   -3.457</td> <td> 0.001</td> <td>   -0.164</td> <td>   -0.045</td>\n",
       "</tr>\n",
       "<tr>\n",
       "  <th>Mean</th>       <td>    0.0343</td> <td>    0.047</td> <td>    0.736</td> <td> 0.462</td> <td>   -0.057</td> <td>    0.126</td>\n",
       "</tr>\n",
       "<tr>\n",
       "  <th>Median</th>     <td>   -0.1008</td> <td>    0.047</td> <td>   -2.132</td> <td> 0.033</td> <td>   -0.193</td> <td>   -0.008</td>\n",
       "</tr>\n",
       "<tr>\n",
       "  <th>const</th>      <td>   -4.4965</td> <td>    3.387</td> <td>   -1.328</td> <td> 0.184</td> <td>  -11.135</td> <td>    2.142</td>\n",
       "</tr>\n",
       "<tr>\n",
       "  <th>Tendency1</th>  <td>    1.8618</td> <td>    0.634</td> <td>    2.939</td> <td> 0.003</td> <td>    0.620</td> <td>    3.104</td>\n",
       "</tr>\n",
       "<tr>\n",
       "  <th>Tendency-1</th> <td>   -2.0489</td> <td>    0.813</td> <td>   -2.522</td> <td> 0.012</td> <td>   -3.641</td> <td>   -0.456</td>\n",
       "</tr>\n",
       "</table>"
      ],
      "text/plain": [
       "<class 'statsmodels.iolib.summary.Summary'>\n",
       "\"\"\"\n",
       "                 Generalized Linear Model Regression Results                  \n",
       "==============================================================================\n",
       "Dep. Variable:                    NSP   No. Observations:                 1831\n",
       "Model:                            GLM   Df Residuals:                     1813\n",
       "Model Family:                Binomial   Df Model:                           17\n",
       "Link Function:                  logit   Scale:                          1.0000\n",
       "Method:                          IRLS   Log-Likelihood:                -84.573\n",
       "Date:                Thu, 01 Apr 2021   Deviance:                       169.15\n",
       "Time:                        21:45:53   Pearson chi2:                 1.62e+03\n",
       "No. Iterations:                    11                                         \n",
       "Covariance Type:            nonrobust                                         \n",
       "==============================================================================\n",
       "                 coef    std err          z      P>|z|      [0.025      0.975]\n",
       "------------------------------------------------------------------------------\n",
       "AC            -1.6081      0.413     -3.894      0.000      -2.418      -0.799\n",
       "FM             0.0138      0.006      2.343      0.019       0.002       0.025\n",
       "UC            -0.6939      0.114     -6.076      0.000      -0.918      -0.470\n",
       "DL             0.1436      0.120      1.198      0.231      -0.091       0.378\n",
       "DP             4.7699      0.678      7.033      0.000       3.441       6.099\n",
       "ASTV           0.1406      0.021      6.642      0.000       0.099       0.182\n",
       "MSTV           0.4087      0.422      0.970      0.332      -0.417       1.235\n",
       "ALTV           0.0767      0.013      5.706      0.000       0.050       0.103\n",
       "MLTV          -0.0180      0.065     -0.277      0.782      -0.145       0.109\n",
       "Min           -0.0010      0.017     -0.059      0.953      -0.035       0.033\n",
       "Max            0.1129      0.022      5.076      0.000       0.069       0.157\n",
       "Nmax          -0.5866      0.169     -3.470      0.001      -0.918      -0.255\n",
       "Mode          -0.1048      0.030     -3.457      0.001      -0.164      -0.045\n",
       "Mean           0.0343      0.047      0.736      0.462      -0.057       0.126\n",
       "Median        -0.1008      0.047     -2.132      0.033      -0.193      -0.008\n",
       "const         -4.4965      3.387     -1.328      0.184     -11.135       2.142\n",
       "Tendency1      1.8618      0.634      2.939      0.003       0.620       3.104\n",
       "Tendency-1    -2.0489      0.813     -2.522      0.012      -3.641      -0.456\n",
       "==============================================================================\n",
       "\"\"\""
      ]
     },
     "execution_count": 19,
     "metadata": {
      "tags": []
     },
     "output_type": "execute_result"
    }
   ],
   "source": [
    "m2 = sm.GLM(data.NSP, data.drop(columns=['NSP']),\n",
    "                       family=sm.families.Binomial())\n",
    "result_m2 = m2.fit()\n",
    "result_m2.summary()"
   ]
  },
  {
   "cell_type": "markdown",
   "metadata": {
    "id": "b6piouEzoKme"
   },
   "source": [
    "Критерий отношения правдоподобия считает такую модель существенно лучше константы (то есть объясняемая переменная действительно зависит от выбранных факторов, в противном случае она бы лучше описывалась константой и случайной ошибкой):"
   ]
  },
  {
   "cell_type": "code",
   "execution_count": null,
   "metadata": {
    "colab": {
     "base_uri": "https://localhost:8080/"
    },
    "id": "8GwB-taooKme",
    "outputId": "0d2adc29-ca91-436b-865b-708b5cac3c94"
   },
   "outputs": [
    {
     "name": "stdout",
     "output_type": "stream",
     "text": [
      "Likelihood Ratio Test Of Nested Models, p: 0.000\n"
     ]
    }
   ],
   "source": [
    "lr = lrtest(result_m0.llf,result_m2.llf)\n",
    "print('Likelihood Ratio Test Of Nested Models, p: %.03f' % chi2.sf(lr, 1))"
   ]
  },
  {
   "cell_type": "markdown",
   "metadata": {
    "id": "lK3MRuB7oKmf"
   },
   "source": [
    "## Модели 3 и 4"
   ]
  },
  {
   "cell_type": "markdown",
   "metadata": {
    "id": "ZDN-AydkoKmf"
   },
   "source": [
    "Удалим незначимые признаки."
   ]
  },
  {
   "cell_type": "code",
   "execution_count": null,
   "metadata": {
    "id": "Fd1-Do9loKmf"
   },
   "outputs": [],
   "source": [
    "data = data.drop(columns=['DL', 'MSTV', 'MLTV', 'Min', 'Mean'])"
   ]
  },
  {
   "cell_type": "code",
   "execution_count": null,
   "metadata": {
    "colab": {
     "base_uri": "https://localhost:8080/",
     "height": 521
    },
    "id": "Z4OJNizloKmf",
    "outputId": "07fc1bf9-f803-42c8-95e7-282ebe3db7c7"
   },
   "outputs": [
    {
     "data": {
      "text/html": [
       "<table class=\"simpletable\">\n",
       "<caption>Generalized Linear Model Regression Results</caption>\n",
       "<tr>\n",
       "  <th>Dep. Variable:</th>          <td>NSP</td>       <th>  No. Observations:  </th>  <td>  1831</td> \n",
       "</tr>\n",
       "<tr>\n",
       "  <th>Model:</th>                  <td>GLM</td>       <th>  Df Residuals:      </th>  <td>  1818</td> \n",
       "</tr>\n",
       "<tr>\n",
       "  <th>Model Family:</th>        <td>Binomial</td>     <th>  Df Model:          </th>  <td>    12</td> \n",
       "</tr>\n",
       "<tr>\n",
       "  <th>Link Function:</th>         <td>logit</td>      <th>  Scale:             </th> <td>  1.0000</td>\n",
       "</tr>\n",
       "<tr>\n",
       "  <th>Method:</th>                <td>IRLS</td>       <th>  Log-Likelihood:    </th> <td> -85.997</td>\n",
       "</tr>\n",
       "<tr>\n",
       "  <th>Date:</th>            <td>Thu, 01 Apr 2021</td> <th>  Deviance:          </th> <td>  171.99</td>\n",
       "</tr>\n",
       "<tr>\n",
       "  <th>Time:</th>                <td>21:46:00</td>     <th>  Pearson chi2:      </th> <td>1.28e+03</td>\n",
       "</tr>\n",
       "<tr>\n",
       "  <th>No. Iterations:</th>         <td>11</td>        <th>                     </th>     <td> </td>   \n",
       "</tr>\n",
       "<tr>\n",
       "  <th>Covariance Type:</th>     <td>nonrobust</td>    <th>                     </th>     <td> </td>   \n",
       "</tr>\n",
       "</table>\n",
       "<table class=\"simpletable\">\n",
       "<tr>\n",
       "       <td></td>         <th>coef</th>     <th>std err</th>      <th>z</th>      <th>P>|z|</th>  <th>[0.025</th>    <th>0.975]</th>  \n",
       "</tr>\n",
       "<tr>\n",
       "  <th>AC</th>         <td>   -1.6671</td> <td>    0.403</td> <td>   -4.141</td> <td> 0.000</td> <td>   -2.456</td> <td>   -0.878</td>\n",
       "</tr>\n",
       "<tr>\n",
       "  <th>FM</th>         <td>    0.0131</td> <td>    0.006</td> <td>    2.029</td> <td> 0.043</td> <td>    0.000</td> <td>    0.026</td>\n",
       "</tr>\n",
       "<tr>\n",
       "  <th>UC</th>         <td>   -0.6692</td> <td>    0.111</td> <td>   -6.038</td> <td> 0.000</td> <td>   -0.886</td> <td>   -0.452</td>\n",
       "</tr>\n",
       "<tr>\n",
       "  <th>DP</th>         <td>    4.7150</td> <td>    0.653</td> <td>    7.224</td> <td> 0.000</td> <td>    3.436</td> <td>    5.994</td>\n",
       "</tr>\n",
       "<tr>\n",
       "  <th>ASTV</th>       <td>    0.1398</td> <td>    0.019</td> <td>    7.344</td> <td> 0.000</td> <td>    0.103</td> <td>    0.177</td>\n",
       "</tr>\n",
       "<tr>\n",
       "  <th>ALTV</th>       <td>    0.0730</td> <td>    0.012</td> <td>    6.243</td> <td> 0.000</td> <td>    0.050</td> <td>    0.096</td>\n",
       "</tr>\n",
       "<tr>\n",
       "  <th>Max</th>        <td>    0.1201</td> <td>    0.020</td> <td>    6.104</td> <td> 0.000</td> <td>    0.082</td> <td>    0.159</td>\n",
       "</tr>\n",
       "<tr>\n",
       "  <th>Nmax</th>       <td>   -0.4950</td> <td>    0.140</td> <td>   -3.532</td> <td> 0.000</td> <td>   -0.770</td> <td>   -0.220</td>\n",
       "</tr>\n",
       "<tr>\n",
       "  <th>Mode</th>       <td>   -0.1022</td> <td>    0.028</td> <td>   -3.713</td> <td> 0.000</td> <td>   -0.156</td> <td>   -0.048</td>\n",
       "</tr>\n",
       "<tr>\n",
       "  <th>Median</th>     <td>   -0.0904</td> <td>    0.040</td> <td>   -2.248</td> <td> 0.025</td> <td>   -0.169</td> <td>   -0.012</td>\n",
       "</tr>\n",
       "<tr>\n",
       "  <th>const</th>      <td>   -2.5359</td> <td>    2.741</td> <td>   -0.925</td> <td> 0.355</td> <td>   -7.909</td> <td>    2.837</td>\n",
       "</tr>\n",
       "<tr>\n",
       "  <th>Tendency1</th>  <td>    1.8020</td> <td>    0.548</td> <td>    3.291</td> <td> 0.001</td> <td>    0.729</td> <td>    2.875</td>\n",
       "</tr>\n",
       "<tr>\n",
       "  <th>Tendency-1</th> <td>   -2.2949</td> <td>    0.755</td> <td>   -3.039</td> <td> 0.002</td> <td>   -3.775</td> <td>   -0.815</td>\n",
       "</tr>\n",
       "</table>"
      ],
      "text/plain": [
       "<class 'statsmodels.iolib.summary.Summary'>\n",
       "\"\"\"\n",
       "                 Generalized Linear Model Regression Results                  \n",
       "==============================================================================\n",
       "Dep. Variable:                    NSP   No. Observations:                 1831\n",
       "Model:                            GLM   Df Residuals:                     1818\n",
       "Model Family:                Binomial   Df Model:                           12\n",
       "Link Function:                  logit   Scale:                          1.0000\n",
       "Method:                          IRLS   Log-Likelihood:                -85.997\n",
       "Date:                Thu, 01 Apr 2021   Deviance:                       171.99\n",
       "Time:                        21:46:00   Pearson chi2:                 1.28e+03\n",
       "No. Iterations:                    11                                         \n",
       "Covariance Type:            nonrobust                                         \n",
       "==============================================================================\n",
       "                 coef    std err          z      P>|z|      [0.025      0.975]\n",
       "------------------------------------------------------------------------------\n",
       "AC            -1.6671      0.403     -4.141      0.000      -2.456      -0.878\n",
       "FM             0.0131      0.006      2.029      0.043       0.000       0.026\n",
       "UC            -0.6692      0.111     -6.038      0.000      -0.886      -0.452\n",
       "DP             4.7150      0.653      7.224      0.000       3.436       5.994\n",
       "ASTV           0.1398      0.019      7.344      0.000       0.103       0.177\n",
       "ALTV           0.0730      0.012      6.243      0.000       0.050       0.096\n",
       "Max            0.1201      0.020      6.104      0.000       0.082       0.159\n",
       "Nmax          -0.4950      0.140     -3.532      0.000      -0.770      -0.220\n",
       "Mode          -0.1022      0.028     -3.713      0.000      -0.156      -0.048\n",
       "Median        -0.0904      0.040     -2.248      0.025      -0.169      -0.012\n",
       "const         -2.5359      2.741     -0.925      0.355      -7.909       2.837\n",
       "Tendency1      1.8020      0.548      3.291      0.001       0.729       2.875\n",
       "Tendency-1    -2.2949      0.755     -3.039      0.002      -3.775      -0.815\n",
       "==============================================================================\n",
       "\"\"\""
      ]
     },
     "execution_count": 22,
     "metadata": {
      "tags": []
     },
     "output_type": "execute_result"
    }
   ],
   "source": [
    "m3 = sm.GLM(data.NSP, data.drop(columns=['NSP']),\n",
    "                       family=sm.families.Binomial())\n",
    "result_m3 = m3.fit()\n",
    "result_m3.summary()"
   ]
  },
  {
   "cell_type": "code",
   "execution_count": null,
   "metadata": {
    "colab": {
     "base_uri": "https://localhost:8080/"
    },
    "id": "ywALuVuYoKmf",
    "outputId": "710b67f5-c697-4065-97f1-f19a56537ed4"
   },
   "outputs": [
    {
     "name": "stdout",
     "output_type": "stream",
     "text": [
      "Likelihood Ratio Test Of Nested Models, p: 0.091\n"
     ]
    }
   ],
   "source": [
    "lr = lrtest(result_m3.llf,result_m2.llf)\n",
    "print('Likelihood Ratio Test Of Nested Models, p: %.03f' % chi2.sf(lr, 1))"
   ]
  },
  {
   "cell_type": "markdown",
   "metadata": {
    "id": "_4jNYAb2oKmg"
   },
   "source": [
    "По критерию отношения правдоподобия ухудшения не произошло. В полученной модели значимы все признаки."
   ]
  },
  {
   "cell_type": "markdown",
   "metadata": {
    "id": "eu7T53-YoKmg"
   },
   "source": [
    "Попробуем добавлять в линейную модель попарные взаимодействия (при этом для простоты не будем брать взаимодействия с категориальным признаком)."
   ]
  },
  {
   "cell_type": "code",
   "execution_count": null,
   "metadata": {
    "id": "K97eQzqeoKmg"
   },
   "outputs": [],
   "source": [
    "from itertools import combinations\n",
    "cc = list(combinations(data.drop(columns = ['NSP', 'Tendency1', 'Tendency-1', 'const']).columns, 2))\n",
    "for c in cc:\n",
    "    name_str = str(c).replace(\"'\", \"\")\n",
    "    data[name_str] = data[c[0]]*data[c[1]]"
   ]
  },
  {
   "cell_type": "code",
   "execution_count": null,
   "metadata": {
    "id": "1B-_pZkAoKmg"
   },
   "outputs": [],
   "source": [
    "number_all_param = data.columns.get_loc('Tendency-1')"
   ]
  },
  {
   "cell_type": "code",
   "execution_count": null,
   "metadata": {
    "colab": {
     "base_uri": "https://localhost:8080/",
     "height": 1000
    },
    "id": "lNpjKQi1oKmg",
    "outputId": "8dc375da-6478-49f3-fdd1-e0ef97e71b60"
   },
   "outputs": [
    {
     "name": "stderr",
     "output_type": "stream",
     "text": [
      "/usr/local/lib/python3.7/dist-packages/statsmodels/genmod/families/links.py:190: RuntimeWarning: overflow encountered in exp\n",
      "  t = np.exp(-z)\n",
      "/usr/local/lib/python3.7/dist-packages/statsmodels/genmod/families/family.py:889: RuntimeWarning: invalid value encountered in true_divide\n",
      "  endog_mu = self._clean(endog / mu)\n",
      "/usr/local/lib/python3.7/dist-packages/statsmodels/genmod/families/family.py:942: RuntimeWarning: divide by zero encountered in log\n",
      "  special.gammaln(n - y + 1) + y * np.log(mu / (1 - mu)) +\n",
      "/usr/local/lib/python3.7/dist-packages/statsmodels/genmod/families/family.py:942: RuntimeWarning: invalid value encountered in multiply\n",
      "  special.gammaln(n - y + 1) + y * np.log(mu / (1 - mu)) +\n",
      "/usr/local/lib/python3.7/dist-packages/statsmodels/genmod/families/family.py:890: RuntimeWarning: invalid value encountered in true_divide\n",
      "  n_endog_mu = self._clean((1. - endog) / (1. - mu))\n",
      "/usr/local/lib/python3.7/dist-packages/statsmodels/genmod/families/family.py:942: RuntimeWarning: divide by zero encountered in true_divide\n",
      "  special.gammaln(n - y + 1) + y * np.log(mu / (1 - mu)) +\n",
      "/usr/local/lib/python3.7/dist-packages/statsmodels/genmod/families/family.py:943: RuntimeWarning: divide by zero encountered in log\n",
      "  n * np.log(1 - mu)) * var_weights\n",
      "/usr/local/lib/python3.7/dist-packages/statsmodels/genmod/families/family.py:943: RuntimeWarning: invalid value encountered in add\n",
      "  n * np.log(1 - mu)) * var_weights\n"
     ]
    },
    {
     "data": {
      "text/html": [
       "<div>\n",
       "<style scoped>\n",
       "    .dataframe tbody tr th:only-of-type {\n",
       "        vertical-align: middle;\n",
       "    }\n",
       "\n",
       "    .dataframe tbody tr th {\n",
       "        vertical-align: top;\n",
       "    }\n",
       "\n",
       "    .dataframe thead th {\n",
       "        text-align: right;\n",
       "    }\n",
       "</style>\n",
       "<table border=\"1\" class=\"dataframe\">\n",
       "  <thead>\n",
       "    <tr style=\"text-align: right;\">\n",
       "      <th></th>\n",
       "      <th>features</th>\n",
       "      <th>p-val</th>\n",
       "    </tr>\n",
       "  </thead>\n",
       "  <tbody>\n",
       "    <tr>\n",
       "      <th>0</th>\n",
       "      <td>(AC, FM)</td>\n",
       "      <td>0.526</td>\n",
       "    </tr>\n",
       "    <tr>\n",
       "      <th>1</th>\n",
       "      <td>(AC, UC)</td>\n",
       "      <td>0.153</td>\n",
       "    </tr>\n",
       "    <tr>\n",
       "      <th>2</th>\n",
       "      <td>(AC, DP)</td>\n",
       "      <td>0.380</td>\n",
       "    </tr>\n",
       "    <tr>\n",
       "      <th>3</th>\n",
       "      <td>(AC, ASTV)</td>\n",
       "      <td>0.813</td>\n",
       "    </tr>\n",
       "    <tr>\n",
       "      <th>4</th>\n",
       "      <td>(AC, ALTV)</td>\n",
       "      <td>NaN</td>\n",
       "    </tr>\n",
       "    <tr>\n",
       "      <th>5</th>\n",
       "      <td>(AC, Max)</td>\n",
       "      <td>0.281</td>\n",
       "    </tr>\n",
       "    <tr>\n",
       "      <th>6</th>\n",
       "      <td>(AC, Nmax)</td>\n",
       "      <td>0.830</td>\n",
       "    </tr>\n",
       "    <tr>\n",
       "      <th>7</th>\n",
       "      <td>(AC, Mode)</td>\n",
       "      <td>0.268</td>\n",
       "    </tr>\n",
       "    <tr>\n",
       "      <th>8</th>\n",
       "      <td>(AC, Median)</td>\n",
       "      <td>0.145</td>\n",
       "    </tr>\n",
       "    <tr>\n",
       "      <th>9</th>\n",
       "      <td>(FM, UC)</td>\n",
       "      <td>0.931</td>\n",
       "    </tr>\n",
       "    <tr>\n",
       "      <th>10</th>\n",
       "      <td>(FM, DP)</td>\n",
       "      <td>NaN</td>\n",
       "    </tr>\n",
       "    <tr>\n",
       "      <th>11</th>\n",
       "      <td>(FM, ASTV)</td>\n",
       "      <td>0.767</td>\n",
       "    </tr>\n",
       "    <tr>\n",
       "      <th>12</th>\n",
       "      <td>(FM, ALTV)</td>\n",
       "      <td>0.401</td>\n",
       "    </tr>\n",
       "    <tr>\n",
       "      <th>13</th>\n",
       "      <td>(FM, Max)</td>\n",
       "      <td>0.640</td>\n",
       "    </tr>\n",
       "    <tr>\n",
       "      <th>14</th>\n",
       "      <td>(FM, Nmax)</td>\n",
       "      <td>0.757</td>\n",
       "    </tr>\n",
       "    <tr>\n",
       "      <th>15</th>\n",
       "      <td>(FM, Mode)</td>\n",
       "      <td>0.568</td>\n",
       "    </tr>\n",
       "    <tr>\n",
       "      <th>16</th>\n",
       "      <td>(FM, Median)</td>\n",
       "      <td>0.566</td>\n",
       "    </tr>\n",
       "    <tr>\n",
       "      <th>17</th>\n",
       "      <td>(UC, DP)</td>\n",
       "      <td>0.711</td>\n",
       "    </tr>\n",
       "    <tr>\n",
       "      <th>18</th>\n",
       "      <td>(UC, ASTV)</td>\n",
       "      <td>0.000</td>\n",
       "    </tr>\n",
       "    <tr>\n",
       "      <th>19</th>\n",
       "      <td>(UC, ALTV)</td>\n",
       "      <td>0.003</td>\n",
       "    </tr>\n",
       "    <tr>\n",
       "      <th>20</th>\n",
       "      <td>(UC, Max)</td>\n",
       "      <td>0.415</td>\n",
       "    </tr>\n",
       "    <tr>\n",
       "      <th>21</th>\n",
       "      <td>(UC, Nmax)</td>\n",
       "      <td>0.104</td>\n",
       "    </tr>\n",
       "    <tr>\n",
       "      <th>22</th>\n",
       "      <td>(UC, Mode)</td>\n",
       "      <td>0.019</td>\n",
       "    </tr>\n",
       "    <tr>\n",
       "      <th>23</th>\n",
       "      <td>(UC, Median)</td>\n",
       "      <td>0.041</td>\n",
       "    </tr>\n",
       "    <tr>\n",
       "      <th>24</th>\n",
       "      <td>(DP, ASTV)</td>\n",
       "      <td>0.010</td>\n",
       "    </tr>\n",
       "    <tr>\n",
       "      <th>25</th>\n",
       "      <td>(DP, ALTV)</td>\n",
       "      <td>0.332</td>\n",
       "    </tr>\n",
       "    <tr>\n",
       "      <th>26</th>\n",
       "      <td>(DP, Max)</td>\n",
       "      <td>0.065</td>\n",
       "    </tr>\n",
       "    <tr>\n",
       "      <th>27</th>\n",
       "      <td>(DP, Nmax)</td>\n",
       "      <td>0.108</td>\n",
       "    </tr>\n",
       "    <tr>\n",
       "      <th>28</th>\n",
       "      <td>(DP, Mode)</td>\n",
       "      <td>0.710</td>\n",
       "    </tr>\n",
       "    <tr>\n",
       "      <th>29</th>\n",
       "      <td>(DP, Median)</td>\n",
       "      <td>0.232</td>\n",
       "    </tr>\n",
       "    <tr>\n",
       "      <th>30</th>\n",
       "      <td>(ASTV, ALTV)</td>\n",
       "      <td>0.806</td>\n",
       "    </tr>\n",
       "    <tr>\n",
       "      <th>31</th>\n",
       "      <td>(ASTV, Max)</td>\n",
       "      <td>0.427</td>\n",
       "    </tr>\n",
       "    <tr>\n",
       "      <th>32</th>\n",
       "      <td>(ASTV, Nmax)</td>\n",
       "      <td>0.290</td>\n",
       "    </tr>\n",
       "    <tr>\n",
       "      <th>33</th>\n",
       "      <td>(ASTV, Mode)</td>\n",
       "      <td>0.003</td>\n",
       "    </tr>\n",
       "    <tr>\n",
       "      <th>34</th>\n",
       "      <td>(ASTV, Median)</td>\n",
       "      <td>0.007</td>\n",
       "    </tr>\n",
       "    <tr>\n",
       "      <th>35</th>\n",
       "      <td>(ALTV, Max)</td>\n",
       "      <td>0.009</td>\n",
       "    </tr>\n",
       "    <tr>\n",
       "      <th>36</th>\n",
       "      <td>(ALTV, Nmax)</td>\n",
       "      <td>0.845</td>\n",
       "    </tr>\n",
       "    <tr>\n",
       "      <th>37</th>\n",
       "      <td>(ALTV, Mode)</td>\n",
       "      <td>0.000</td>\n",
       "    </tr>\n",
       "    <tr>\n",
       "      <th>38</th>\n",
       "      <td>(ALTV, Median)</td>\n",
       "      <td>0.000</td>\n",
       "    </tr>\n",
       "    <tr>\n",
       "      <th>39</th>\n",
       "      <td>(Max, Nmax)</td>\n",
       "      <td>0.001</td>\n",
       "    </tr>\n",
       "    <tr>\n",
       "      <th>40</th>\n",
       "      <td>(Max, Mode)</td>\n",
       "      <td>0.319</td>\n",
       "    </tr>\n",
       "    <tr>\n",
       "      <th>41</th>\n",
       "      <td>(Max, Median)</td>\n",
       "      <td>0.761</td>\n",
       "    </tr>\n",
       "    <tr>\n",
       "      <th>42</th>\n",
       "      <td>(Nmax, Mode)</td>\n",
       "      <td>0.115</td>\n",
       "    </tr>\n",
       "    <tr>\n",
       "      <th>43</th>\n",
       "      <td>(Nmax, Median)</td>\n",
       "      <td>0.002</td>\n",
       "    </tr>\n",
       "  </tbody>\n",
       "</table>\n",
       "</div>"
      ],
      "text/plain": [
       "          features  p-val\n",
       "0         (AC, FM)  0.526\n",
       "1         (AC, UC)  0.153\n",
       "2         (AC, DP)  0.380\n",
       "3       (AC, ASTV)  0.813\n",
       "4       (AC, ALTV)    NaN\n",
       "5        (AC, Max)  0.281\n",
       "6       (AC, Nmax)  0.830\n",
       "7       (AC, Mode)  0.268\n",
       "8     (AC, Median)  0.145\n",
       "9         (FM, UC)  0.931\n",
       "10        (FM, DP)    NaN\n",
       "11      (FM, ASTV)  0.767\n",
       "12      (FM, ALTV)  0.401\n",
       "13       (FM, Max)  0.640\n",
       "14      (FM, Nmax)  0.757\n",
       "15      (FM, Mode)  0.568\n",
       "16    (FM, Median)  0.566\n",
       "17        (UC, DP)  0.711\n",
       "18      (UC, ASTV)  0.000\n",
       "19      (UC, ALTV)  0.003\n",
       "20       (UC, Max)  0.415\n",
       "21      (UC, Nmax)  0.104\n",
       "22      (UC, Mode)  0.019\n",
       "23    (UC, Median)  0.041\n",
       "24      (DP, ASTV)  0.010\n",
       "25      (DP, ALTV)  0.332\n",
       "26       (DP, Max)  0.065\n",
       "27      (DP, Nmax)  0.108\n",
       "28      (DP, Mode)  0.710\n",
       "29    (DP, Median)  0.232\n",
       "30    (ASTV, ALTV)  0.806\n",
       "31     (ASTV, Max)  0.427\n",
       "32    (ASTV, Nmax)  0.290\n",
       "33    (ASTV, Mode)  0.003\n",
       "34  (ASTV, Median)  0.007\n",
       "35     (ALTV, Max)  0.009\n",
       "36    (ALTV, Nmax)  0.845\n",
       "37    (ALTV, Mode)  0.000\n",
       "38  (ALTV, Median)  0.000\n",
       "39     (Max, Nmax)  0.001\n",
       "40     (Max, Mode)  0.319\n",
       "41   (Max, Median)  0.761\n",
       "42    (Nmax, Mode)  0.115\n",
       "43  (Nmax, Median)  0.002"
      ]
     },
     "execution_count": 26,
     "metadata": {
      "tags": []
     },
     "output_type": "execute_result"
    }
   ],
   "source": [
    "Single_term = pd.DataFrame(columns=['features', 'p-val'])\n",
    "for i in range(1,len(cc)):\n",
    "    model = sm.GLM(data.NSP,  \n",
    "                pd.concat([data.drop(columns='NSP').iloc[:, :number_all_param],\n",
    "                           data.iloc[:, number_all_param+i]], \n",
    "                           axis=1),\n",
    "                       family=sm.families.Binomial()).fit()\n",
    "    lr = lrtest(result_m3.llf, model.llf)\n",
    "    Single_term = Single_term.append({'features': data.columns[number_all_param+i], 'p-val':  round(chi2.sf(lr, 1), 3)}, ignore_index=True)\n",
    "Single_term"
   ]
  },
  {
   "cell_type": "markdown",
   "metadata": {
    "id": "9lGluziWoKmh"
   },
   "source": [
    "Получили несколько NaN в таблице. Посмотрим что содержится в данных показателя."
   ]
  },
  {
   "cell_type": "code",
   "execution_count": null,
   "metadata": {
    "colab": {
     "base_uri": "https://localhost:8080/",
     "height": 285
    },
    "id": "RLm4H3TCoKmh",
    "outputId": "dedc6c1b-35dd-4163-d35f-821c652b3351"
   },
   "outputs": [
    {
     "data": {
      "text/plain": [
       "[<matplotlib.lines.Line2D at 0x7f3f4bf5d3d0>]"
      ]
     },
     "execution_count": 27,
     "metadata": {
      "tags": []
     },
     "output_type": "execute_result"
    },
    {
     "data": {
      "image/png": "[encoded data removed]",
      "text/plain": [
       "<Figure size 432x288 with 1 Axes>"
      ]
     },
     "metadata": {
      "needs_background": "light",
      "tags": []
     },
     "output_type": "display_data"
    }
   ],
   "source": [
    "plt.plot(data['(AC, ALTV)'].value_counts())"
   ]
  },
  {
   "cell_type": "markdown",
   "metadata": {
    "id": "KtJMwtqCoKmh"
   },
   "source": [
    "Бинаризуем выборку, так как нулей намного больше, чем остальных значений. Пересчитаем таблицу. "
   ]
  },
  {
   "cell_type": "code",
   "execution_count": null,
   "metadata": {
    "id": "dlU-QbjnoKmh"
   },
   "outputs": [],
   "source": [
    "data.loc[data['(AC, ALTV)'] != 0, '(AC, ALTV)'] = 1"
   ]
  },
  {
   "cell_type": "code",
   "execution_count": null,
   "metadata": {
    "colab": {
     "base_uri": "https://localhost:8080/",
     "height": 1000
    },
    "id": "zaU3NIOMoKmi",
    "outputId": "cc9b130c-2399-4054-905c-8aae6e75cca1"
   },
   "outputs": [
    {
     "name": "stderr",
     "output_type": "stream",
     "text": [
      "/usr/local/lib/python3.7/dist-packages/statsmodels/genmod/families/family.py:890: RuntimeWarning: invalid value encountered in true_divide\n",
      "  n_endog_mu = self._clean((1. - endog) / (1. - mu))\n",
      "/usr/local/lib/python3.7/dist-packages/statsmodels/genmod/families/family.py:942: RuntimeWarning: divide by zero encountered in true_divide\n",
      "  special.gammaln(n - y + 1) + y * np.log(mu / (1 - mu)) +\n",
      "/usr/local/lib/python3.7/dist-packages/statsmodels/genmod/families/family.py:943: RuntimeWarning: divide by zero encountered in log\n",
      "  n * np.log(1 - mu)) * var_weights\n",
      "/usr/local/lib/python3.7/dist-packages/statsmodels/genmod/families/family.py:943: RuntimeWarning: invalid value encountered in add\n",
      "  n * np.log(1 - mu)) * var_weights\n"
     ]
    },
    {
     "data": {
      "text/html": [
       "<div>\n",
       "<style scoped>\n",
       "    .dataframe tbody tr th:only-of-type {\n",
       "        vertical-align: middle;\n",
       "    }\n",
       "\n",
       "    .dataframe tbody tr th {\n",
       "        vertical-align: top;\n",
       "    }\n",
       "\n",
       "    .dataframe thead th {\n",
       "        text-align: right;\n",
       "    }\n",
       "</style>\n",
       "<table border=\"1\" class=\"dataframe\">\n",
       "  <thead>\n",
       "    <tr style=\"text-align: right;\">\n",
       "      <th></th>\n",
       "      <th>features</th>\n",
       "      <th>p-val</th>\n",
       "    </tr>\n",
       "  </thead>\n",
       "  <tbody>\n",
       "    <tr>\n",
       "      <th>0</th>\n",
       "      <td>(AC, FM)</td>\n",
       "      <td>0.526</td>\n",
       "    </tr>\n",
       "    <tr>\n",
       "      <th>1</th>\n",
       "      <td>(AC, UC)</td>\n",
       "      <td>0.153</td>\n",
       "    </tr>\n",
       "    <tr>\n",
       "      <th>2</th>\n",
       "      <td>(AC, DP)</td>\n",
       "      <td>0.380</td>\n",
       "    </tr>\n",
       "    <tr>\n",
       "      <th>3</th>\n",
       "      <td>(AC, ASTV)</td>\n",
       "      <td>0.813</td>\n",
       "    </tr>\n",
       "    <tr>\n",
       "      <th>4</th>\n",
       "      <td>(AC, ALTV)</td>\n",
       "      <td>0.073</td>\n",
       "    </tr>\n",
       "    <tr>\n",
       "      <th>5</th>\n",
       "      <td>(AC, Max)</td>\n",
       "      <td>0.281</td>\n",
       "    </tr>\n",
       "    <tr>\n",
       "      <th>6</th>\n",
       "      <td>(AC, Nmax)</td>\n",
       "      <td>0.830</td>\n",
       "    </tr>\n",
       "    <tr>\n",
       "      <th>7</th>\n",
       "      <td>(AC, Mode)</td>\n",
       "      <td>0.268</td>\n",
       "    </tr>\n",
       "    <tr>\n",
       "      <th>8</th>\n",
       "      <td>(AC, Median)</td>\n",
       "      <td>0.145</td>\n",
       "    </tr>\n",
       "    <tr>\n",
       "      <th>9</th>\n",
       "      <td>(FM, UC)</td>\n",
       "      <td>0.931</td>\n",
       "    </tr>\n",
       "    <tr>\n",
       "      <th>10</th>\n",
       "      <td>(FM, DP)</td>\n",
       "      <td>NaN</td>\n",
       "    </tr>\n",
       "    <tr>\n",
       "      <th>11</th>\n",
       "      <td>(FM, ASTV)</td>\n",
       "      <td>0.767</td>\n",
       "    </tr>\n",
       "    <tr>\n",
       "      <th>12</th>\n",
       "      <td>(FM, ALTV)</td>\n",
       "      <td>0.401</td>\n",
       "    </tr>\n",
       "    <tr>\n",
       "      <th>13</th>\n",
       "      <td>(FM, Max)</td>\n",
       "      <td>0.640</td>\n",
       "    </tr>\n",
       "    <tr>\n",
       "      <th>14</th>\n",
       "      <td>(FM, Nmax)</td>\n",
       "      <td>0.757</td>\n",
       "    </tr>\n",
       "    <tr>\n",
       "      <th>15</th>\n",
       "      <td>(FM, Mode)</td>\n",
       "      <td>0.568</td>\n",
       "    </tr>\n",
       "    <tr>\n",
       "      <th>16</th>\n",
       "      <td>(FM, Median)</td>\n",
       "      <td>0.566</td>\n",
       "    </tr>\n",
       "    <tr>\n",
       "      <th>17</th>\n",
       "      <td>(UC, DP)</td>\n",
       "      <td>0.711</td>\n",
       "    </tr>\n",
       "    <tr>\n",
       "      <th>18</th>\n",
       "      <td>(UC, ASTV)</td>\n",
       "      <td>0.000</td>\n",
       "    </tr>\n",
       "    <tr>\n",
       "      <th>19</th>\n",
       "      <td>(UC, ALTV)</td>\n",
       "      <td>0.003</td>\n",
       "    </tr>\n",
       "    <tr>\n",
       "      <th>20</th>\n",
       "      <td>(UC, Max)</td>\n",
       "      <td>0.415</td>\n",
       "    </tr>\n",
       "    <tr>\n",
       "      <th>21</th>\n",
       "      <td>(UC, Nmax)</td>\n",
       "      <td>0.104</td>\n",
       "    </tr>\n",
       "    <tr>\n",
       "      <th>22</th>\n",
       "      <td>(UC, Mode)</td>\n",
       "      <td>0.019</td>\n",
       "    </tr>\n",
       "    <tr>\n",
       "      <th>23</th>\n",
       "      <td>(UC, Median)</td>\n",
       "      <td>0.041</td>\n",
       "    </tr>\n",
       "    <tr>\n",
       "      <th>24</th>\n",
       "      <td>(DP, ASTV)</td>\n",
       "      <td>0.010</td>\n",
       "    </tr>\n",
       "    <tr>\n",
       "      <th>25</th>\n",
       "      <td>(DP, ALTV)</td>\n",
       "      <td>0.332</td>\n",
       "    </tr>\n",
       "    <tr>\n",
       "      <th>26</th>\n",
       "      <td>(DP, Max)</td>\n",
       "      <td>0.065</td>\n",
       "    </tr>\n",
       "    <tr>\n",
       "      <th>27</th>\n",
       "      <td>(DP, Nmax)</td>\n",
       "      <td>0.108</td>\n",
       "    </tr>\n",
       "    <tr>\n",
       "      <th>28</th>\n",
       "      <td>(DP, Mode)</td>\n",
       "      <td>0.710</td>\n",
       "    </tr>\n",
       "    <tr>\n",
       "      <th>29</th>\n",
       "      <td>(DP, Median)</td>\n",
       "      <td>0.232</td>\n",
       "    </tr>\n",
       "    <tr>\n",
       "      <th>30</th>\n",
       "      <td>(ASTV, ALTV)</td>\n",
       "      <td>0.806</td>\n",
       "    </tr>\n",
       "    <tr>\n",
       "      <th>31</th>\n",
       "      <td>(ASTV, Max)</td>\n",
       "      <td>0.427</td>\n",
       "    </tr>\n",
       "    <tr>\n",
       "      <th>32</th>\n",
       "      <td>(ASTV, Nmax)</td>\n",
       "      <td>0.290</td>\n",
       "    </tr>\n",
       "    <tr>\n",
       "      <th>33</th>\n",
       "      <td>(ASTV, Mode)</td>\n",
       "      <td>0.003</td>\n",
       "    </tr>\n",
       "    <tr>\n",
       "      <th>34</th>\n",
       "      <td>(ASTV, Median)</td>\n",
       "      <td>0.007</td>\n",
       "    </tr>\n",
       "    <tr>\n",
       "      <th>35</th>\n",
       "      <td>(ALTV, Max)</td>\n",
       "      <td>0.009</td>\n",
       "    </tr>\n",
       "    <tr>\n",
       "      <th>36</th>\n",
       "      <td>(ALTV, Nmax)</td>\n",
       "      <td>0.845</td>\n",
       "    </tr>\n",
       "    <tr>\n",
       "      <th>37</th>\n",
       "      <td>(ALTV, Mode)</td>\n",
       "      <td>0.000</td>\n",
       "    </tr>\n",
       "    <tr>\n",
       "      <th>38</th>\n",
       "      <td>(ALTV, Median)</td>\n",
       "      <td>0.000</td>\n",
       "    </tr>\n",
       "    <tr>\n",
       "      <th>39</th>\n",
       "      <td>(Max, Nmax)</td>\n",
       "      <td>0.001</td>\n",
       "    </tr>\n",
       "    <tr>\n",
       "      <th>40</th>\n",
       "      <td>(Max, Mode)</td>\n",
       "      <td>0.319</td>\n",
       "    </tr>\n",
       "    <tr>\n",
       "      <th>41</th>\n",
       "      <td>(Max, Median)</td>\n",
       "      <td>0.761</td>\n",
       "    </tr>\n",
       "    <tr>\n",
       "      <th>42</th>\n",
       "      <td>(Nmax, Mode)</td>\n",
       "      <td>0.115</td>\n",
       "    </tr>\n",
       "    <tr>\n",
       "      <th>43</th>\n",
       "      <td>(Nmax, Median)</td>\n",
       "      <td>0.002</td>\n",
       "    </tr>\n",
       "  </tbody>\n",
       "</table>\n",
       "</div>"
      ],
      "text/plain": [
       "          features  p-val\n",
       "0         (AC, FM)  0.526\n",
       "1         (AC, UC)  0.153\n",
       "2         (AC, DP)  0.380\n",
       "3       (AC, ASTV)  0.813\n",
       "4       (AC, ALTV)  0.073\n",
       "5        (AC, Max)  0.281\n",
       "6       (AC, Nmax)  0.830\n",
       "7       (AC, Mode)  0.268\n",
       "8     (AC, Median)  0.145\n",
       "9         (FM, UC)  0.931\n",
       "10        (FM, DP)    NaN\n",
       "11      (FM, ASTV)  0.767\n",
       "12      (FM, ALTV)  0.401\n",
       "13       (FM, Max)  0.640\n",
       "14      (FM, Nmax)  0.757\n",
       "15      (FM, Mode)  0.568\n",
       "16    (FM, Median)  0.566\n",
       "17        (UC, DP)  0.711\n",
       "18      (UC, ASTV)  0.000\n",
       "19      (UC, ALTV)  0.003\n",
       "20       (UC, Max)  0.415\n",
       "21      (UC, Nmax)  0.104\n",
       "22      (UC, Mode)  0.019\n",
       "23    (UC, Median)  0.041\n",
       "24      (DP, ASTV)  0.010\n",
       "25      (DP, ALTV)  0.332\n",
       "26       (DP, Max)  0.065\n",
       "27      (DP, Nmax)  0.108\n",
       "28      (DP, Mode)  0.710\n",
       "29    (DP, Median)  0.232\n",
       "30    (ASTV, ALTV)  0.806\n",
       "31     (ASTV, Max)  0.427\n",
       "32    (ASTV, Nmax)  0.290\n",
       "33    (ASTV, Mode)  0.003\n",
       "34  (ASTV, Median)  0.007\n",
       "35     (ALTV, Max)  0.009\n",
       "36    (ALTV, Nmax)  0.845\n",
       "37    (ALTV, Mode)  0.000\n",
       "38  (ALTV, Median)  0.000\n",
       "39     (Max, Nmax)  0.001\n",
       "40     (Max, Mode)  0.319\n",
       "41   (Max, Median)  0.761\n",
       "42    (Nmax, Mode)  0.115\n",
       "43  (Nmax, Median)  0.002"
      ]
     },
     "execution_count": 29,
     "metadata": {
      "tags": []
     },
     "output_type": "execute_result"
    }
   ],
   "source": [
    "Single_term = pd.DataFrame(columns=['features', 'p-val'])\n",
    "for i in range(1,len(cc)):\n",
    "    model = sm.GLM(data.NSP,  \n",
    "                pd.concat([data.drop(columns='NSP').iloc[:, :number_all_param],\n",
    "                           data.iloc[:, number_all_param+i]], \n",
    "                           axis=1),\n",
    "                       family=sm.families.Binomial()).fit()\n",
    "    lr = lrtest(result_m3.llf, model.llf)\n",
    "    Single_term = Single_term.append({'features': data.columns[number_all_param+i], 'p-val':  round(chi2.sf(lr, 1), 3)}, ignore_index=True)\n",
    "Single_term"
   ]
  },
  {
   "cell_type": "markdown",
   "metadata": {
    "id": "m4xgb_BUoKmi"
   },
   "source": [
    "Попробуем добавить несколько наиболее значимых:"
   ]
  },
  {
   "cell_type": "code",
   "execution_count": null,
   "metadata": {
    "colab": {
     "base_uri": "https://localhost:8080/"
    },
    "id": "r_34IyVBoKmj",
    "outputId": "5271470a-a434-4ff8-8545-dc135e4a4b15"
   },
   "outputs": [
    {
     "data": {
      "text/plain": [
       "Index(['AC', 'FM', 'UC', 'DP', 'ASTV', 'ALTV', 'Max', 'Nmax', 'Mode', 'Median',\n",
       "       'NSP', 'const', 'Tendency1', 'Tendency-1', '(AC, FM)', '(AC, UC)',\n",
       "       '(AC, DP)', '(AC, ASTV)', '(AC, ALTV)', '(AC, Max)', '(AC, Nmax)',\n",
       "       '(AC, Mode)', '(AC, Median)', '(FM, UC)', '(FM, DP)', '(FM, ASTV)',\n",
       "       '(FM, ALTV)', '(FM, Max)', '(FM, Nmax)', '(FM, Mode)', '(FM, Median)',\n",
       "       '(UC, DP)', '(UC, ASTV)', '(UC, ALTV)', '(UC, Max)', '(UC, Nmax)',\n",
       "       '(UC, Mode)', '(UC, Median)', '(DP, ASTV)', '(DP, ALTV)', '(DP, Max)',\n",
       "       '(DP, Nmax)', '(DP, Mode)', '(DP, Median)', '(ASTV, ALTV)',\n",
       "       '(ASTV, Max)', '(ASTV, Nmax)', '(ASTV, Mode)', '(ASTV, Median)',\n",
       "       '(ALTV, Max)', '(ALTV, Nmax)', '(ALTV, Mode)', '(ALTV, Median)',\n",
       "       '(Max, Nmax)', '(Max, Mode)', '(Max, Median)', '(Nmax, Mode)',\n",
       "       '(Nmax, Median)', '(Mode, Median)'],\n",
       "      dtype='object')"
      ]
     },
     "execution_count": 30,
     "metadata": {
      "tags": []
     },
     "output_type": "execute_result"
    }
   ],
   "source": [
    "data.columns"
   ]
  },
  {
   "cell_type": "code",
   "execution_count": null,
   "metadata": {
    "colab": {
     "base_uri": "https://localhost:8080/",
     "height": 464
    },
    "id": "n1KtUYE_Y5dj",
    "outputId": "d646a4e5-f6ba-4f5c-ab3a-c843a8a8edc2"
   },
   "outputs": [
    {
     "name": "stderr",
     "output_type": "stream",
     "text": [
      "/usr/local/lib/python3.7/dist-packages/statsmodels/genmod/families/family.py:890: RuntimeWarning: invalid value encountered in true_divide\n",
      "  n_endog_mu = self._clean((1. - endog) / (1. - mu))\n",
      "/usr/local/lib/python3.7/dist-packages/statsmodels/genmod/families/family.py:942: RuntimeWarning: divide by zero encountered in true_divide\n",
      "  special.gammaln(n - y + 1) + y * np.log(mu / (1 - mu)) +\n",
      "/usr/local/lib/python3.7/dist-packages/statsmodels/genmod/families/family.py:943: RuntimeWarning: divide by zero encountered in log\n",
      "  n * np.log(1 - mu)) * var_weights\n",
      "/usr/local/lib/python3.7/dist-packages/statsmodels/genmod/families/family.py:943: RuntimeWarning: invalid value encountered in add\n",
      "  n * np.log(1 - mu)) * var_weights\n"
     ]
    },
    {
     "data": {
      "text/html": [
       "<div>\n",
       "<style scoped>\n",
       "    .dataframe tbody tr th:only-of-type {\n",
       "        vertical-align: middle;\n",
       "    }\n",
       "\n",
       "    .dataframe tbody tr th {\n",
       "        vertical-align: top;\n",
       "    }\n",
       "\n",
       "    .dataframe thead th {\n",
       "        text-align: right;\n",
       "    }\n",
       "</style>\n",
       "<table border=\"1\" class=\"dataframe\">\n",
       "  <thead>\n",
       "    <tr style=\"text-align: right;\">\n",
       "      <th></th>\n",
       "      <th>features</th>\n",
       "      <th>p-val</th>\n",
       "    </tr>\n",
       "  </thead>\n",
       "  <tbody>\n",
       "    <tr>\n",
       "      <th>0</th>\n",
       "      <td>(UC, ASTV)</td>\n",
       "      <td>0.000</td>\n",
       "    </tr>\n",
       "    <tr>\n",
       "      <th>1</th>\n",
       "      <td>(UC, ALTV)</td>\n",
       "      <td>0.003</td>\n",
       "    </tr>\n",
       "    <tr>\n",
       "      <th>2</th>\n",
       "      <td>(ASTV, Mode)</td>\n",
       "      <td>0.003</td>\n",
       "    </tr>\n",
       "    <tr>\n",
       "      <th>3</th>\n",
       "      <td>(ASTV, Median)</td>\n",
       "      <td>0.007</td>\n",
       "    </tr>\n",
       "    <tr>\n",
       "      <th>4</th>\n",
       "      <td>(ALTV, Max)</td>\n",
       "      <td>0.009</td>\n",
       "    </tr>\n",
       "    <tr>\n",
       "      <th>5</th>\n",
       "      <td>(ALTV, Mode)</td>\n",
       "      <td>0.000</td>\n",
       "    </tr>\n",
       "    <tr>\n",
       "      <th>6</th>\n",
       "      <td>(ALTV, Median)</td>\n",
       "      <td>0.000</td>\n",
       "    </tr>\n",
       "    <tr>\n",
       "      <th>7</th>\n",
       "      <td>(Max, Nmax)</td>\n",
       "      <td>0.001</td>\n",
       "    </tr>\n",
       "    <tr>\n",
       "      <th>8</th>\n",
       "      <td>(Nmax, Median)</td>\n",
       "      <td>0.002</td>\n",
       "    </tr>\n",
       "  </tbody>\n",
       "</table>\n",
       "</div>"
      ],
      "text/plain": [
       "         features  p-val\n",
       "0      (UC, ASTV)  0.000\n",
       "1      (UC, ALTV)  0.003\n",
       "2    (ASTV, Mode)  0.003\n",
       "3  (ASTV, Median)  0.007\n",
       "4     (ALTV, Max)  0.009\n",
       "5    (ALTV, Mode)  0.000\n",
       "6  (ALTV, Median)  0.000\n",
       "7     (Max, Nmax)  0.001\n",
       "8  (Nmax, Median)  0.002"
      ]
     },
     "execution_count": 31,
     "metadata": {
      "tags": []
     },
     "output_type": "execute_result"
    }
   ],
   "source": [
    "Single_term = pd.DataFrame(columns=['features', 'p-val'])\n",
    "for i in range(1,len(cc)):\n",
    "    model = sm.GLM(data.NSP,  \n",
    "                pd.concat([data.drop(columns='NSP').iloc[:, :number_all_param],\n",
    "                           data.iloc[:, number_all_param+i]], \n",
    "                           axis=1),\n",
    "                       family=sm.families.Binomial()).fit()\n",
    "    lr = lrtest(result_m3.llf, model.llf)\n",
    "    if round(chi2.sf(lr, 1), 3) < 0.01:\n",
    "      Single_term = Single_term.append({'features': data.columns[number_all_param+i], 'p-val':  round(chi2.sf(lr, 1), 3)}, ignore_index=True)\n",
    "Single_term"
   ]
  },
  {
   "cell_type": "code",
   "execution_count": null,
   "metadata": {
    "id": "81qpoqX4oKmj"
   },
   "outputs": [],
   "source": [
    "data = data[['AC','UC','DP',\n",
    "             'ASTV','ALTV',\n",
    "             'Max','Nmax','Mode',\n",
    "             'NSP','const',\n",
    "             'Tendency1','Tendency-1',\n",
    "             '(UC, ASTV)', '(UC, ALTV)', '(ASTV, Mode)', '(ASTV, Median)', '(ALTV, Max)', '(ALTV, Mode)', '(ASTV, Mode)', '(Max, Nmax)', '(Nmax, Median)']]"
   ]
  },
  {
   "cell_type": "code",
   "execution_count": null,
   "metadata": {
    "colab": {
     "base_uri": "https://localhost:8080/",
     "height": 668
    },
    "id": "6XA6Kr5FoKmj",
    "outputId": "2d8fe7c4-e078-4f97-c8d6-e63b75b95975"
   },
   "outputs": [
    {
     "data": {
      "text/html": [
       "<table class=\"simpletable\">\n",
       "<caption>Generalized Linear Model Regression Results</caption>\n",
       "<tr>\n",
       "  <th>Dep. Variable:</th>          <td>NSP</td>       <th>  No. Observations:  </th>  <td>  1831</td> \n",
       "</tr>\n",
       "<tr>\n",
       "  <th>Model:</th>                  <td>GLM</td>       <th>  Df Residuals:      </th>  <td>  1812</td> \n",
       "</tr>\n",
       "<tr>\n",
       "  <th>Model Family:</th>        <td>Binomial</td>     <th>  Df Model:          </th>  <td>    18</td> \n",
       "</tr>\n",
       "<tr>\n",
       "  <th>Link Function:</th>         <td>logit</td>      <th>  Scale:             </th> <td>  1.0000</td>\n",
       "</tr>\n",
       "<tr>\n",
       "  <th>Method:</th>                <td>IRLS</td>       <th>  Log-Likelihood:    </th> <td> -59.434</td>\n",
       "</tr>\n",
       "<tr>\n",
       "  <th>Date:</th>            <td>Thu, 01 Apr 2021</td> <th>  Deviance:          </th> <td>  118.87</td>\n",
       "</tr>\n",
       "<tr>\n",
       "  <th>Time:</th>                <td>21:49:11</td>     <th>  Pearson chi2:      </th>  <td>  214.</td> \n",
       "</tr>\n",
       "<tr>\n",
       "  <th>No. Iterations:</th>         <td>12</td>        <th>                     </th>     <td> </td>   \n",
       "</tr>\n",
       "<tr>\n",
       "  <th>Covariance Type:</th>     <td>nonrobust</td>    <th>                     </th>     <td> </td>   \n",
       "</tr>\n",
       "</table>\n",
       "<table class=\"simpletable\">\n",
       "<tr>\n",
       "         <td></td>           <th>coef</th>     <th>std err</th>      <th>z</th>      <th>P>|z|</th>  <th>[0.025</th>    <th>0.975]</th>  \n",
       "</tr>\n",
       "<tr>\n",
       "  <th>AC</th>             <td>   -2.1196</td> <td>    0.529</td> <td>   -4.010</td> <td> 0.000</td> <td>   -3.156</td> <td>   -1.083</td>\n",
       "</tr>\n",
       "<tr>\n",
       "  <th>UC</th>             <td>    1.5264</td> <td>    0.441</td> <td>    3.459</td> <td> 0.001</td> <td>    0.661</td> <td>    2.391</td>\n",
       "</tr>\n",
       "<tr>\n",
       "  <th>DP</th>             <td>    3.9460</td> <td>    0.673</td> <td>    5.867</td> <td> 0.000</td> <td>    2.628</td> <td>    5.264</td>\n",
       "</tr>\n",
       "<tr>\n",
       "  <th>ASTV</th>           <td>    0.0904</td> <td>    0.150</td> <td>    0.603</td> <td> 0.547</td> <td>   -0.204</td> <td>    0.385</td>\n",
       "</tr>\n",
       "<tr>\n",
       "  <th>ALTV</th>           <td>    0.0886</td> <td>    0.152</td> <td>    0.583</td> <td> 0.560</td> <td>   -0.209</td> <td>    0.387</td>\n",
       "</tr>\n",
       "<tr>\n",
       "  <th>Max</th>            <td>    0.2110</td> <td>    0.048</td> <td>    4.375</td> <td> 0.000</td> <td>    0.117</td> <td>    0.306</td>\n",
       "</tr>\n",
       "<tr>\n",
       "  <th>Nmax</th>           <td>    4.9851</td> <td>    1.554</td> <td>    3.209</td> <td> 0.001</td> <td>    1.940</td> <td>    8.030</td>\n",
       "</tr>\n",
       "<tr>\n",
       "  <th>Mode</th>           <td>   -0.2697</td> <td>    0.071</td> <td>   -3.803</td> <td> 0.000</td> <td>   -0.409</td> <td>   -0.131</td>\n",
       "</tr>\n",
       "<tr>\n",
       "  <th>const</th>          <td>  -15.1442</td> <td>   11.189</td> <td>   -1.353</td> <td> 0.176</td> <td>  -37.075</td> <td>    6.787</td>\n",
       "</tr>\n",
       "<tr>\n",
       "  <th>Tendency1</th>      <td>    2.3602</td> <td>    0.762</td> <td>    3.099</td> <td> 0.002</td> <td>    0.867</td> <td>    3.853</td>\n",
       "</tr>\n",
       "<tr>\n",
       "  <th>Tendency-1</th>     <td>   -1.5827</td> <td>    0.996</td> <td>   -1.589</td> <td> 0.112</td> <td>   -3.535</td> <td>    0.370</td>\n",
       "</tr>\n",
       "<tr>\n",
       "  <th>(UC, ASTV)</th>     <td>   -0.0378</td> <td>    0.008</td> <td>   -4.625</td> <td> 0.000</td> <td>   -0.054</td> <td>   -0.022</td>\n",
       "</tr>\n",
       "<tr>\n",
       "  <th>(UC, ALTV)</th>     <td>   -0.0009</td> <td>    0.005</td> <td>   -0.161</td> <td> 0.872</td> <td>   -0.011</td> <td>    0.010</td>\n",
       "</tr>\n",
       "<tr>\n",
       "  <th>(ASTV, Mode)</th>   <td>    0.0018</td> <td>    0.001</td> <td>    2.775</td> <td> 0.006</td> <td>    0.001</td> <td>    0.003</td>\n",
       "</tr>\n",
       "<tr>\n",
       "  <th>(ASTV, Median)</th> <td>   -0.0022</td> <td>    0.001</td> <td>   -2.292</td> <td> 0.022</td> <td>   -0.004</td> <td>   -0.000</td>\n",
       "</tr>\n",
       "<tr>\n",
       "  <th>(ALTV, Max)</th>    <td>   -0.0041</td> <td>    0.002</td> <td>   -2.607</td> <td> 0.009</td> <td>   -0.007</td> <td>   -0.001</td>\n",
       "</tr>\n",
       "<tr>\n",
       "  <th>(ALTV, Mode)</th>   <td>    0.0044</td> <td>    0.001</td> <td>    3.162</td> <td> 0.002</td> <td>    0.002</td> <td>    0.007</td>\n",
       "</tr>\n",
       "<tr>\n",
       "  <th>(ASTV, Mode)</th>   <td>    0.0018</td> <td>    0.001</td> <td>    2.775</td> <td> 0.006</td> <td>    0.001</td> <td>    0.003</td>\n",
       "</tr>\n",
       "<tr>\n",
       "  <th>(Max, Nmax)</th>    <td>   -0.0157</td> <td>    0.005</td> <td>   -3.011</td> <td> 0.003</td> <td>   -0.026</td> <td>   -0.005</td>\n",
       "</tr>\n",
       "<tr>\n",
       "  <th>(Nmax, Median)</th> <td>   -0.0209</td> <td>    0.009</td> <td>   -2.365</td> <td> 0.018</td> <td>   -0.038</td> <td>   -0.004</td>\n",
       "</tr>\n",
       "</table>"
      ],
      "text/plain": [
       "<class 'statsmodels.iolib.summary.Summary'>\n",
       "\"\"\"\n",
       "                 Generalized Linear Model Regression Results                  \n",
       "==============================================================================\n",
       "Dep. Variable:                    NSP   No. Observations:                 1831\n",
       "Model:                            GLM   Df Residuals:                     1812\n",
       "Model Family:                Binomial   Df Model:                           18\n",
       "Link Function:                  logit   Scale:                          1.0000\n",
       "Method:                          IRLS   Log-Likelihood:                -59.434\n",
       "Date:                Thu, 01 Apr 2021   Deviance:                       118.87\n",
       "Time:                        21:49:11   Pearson chi2:                     214.\n",
       "No. Iterations:                    12                                         \n",
       "Covariance Type:            nonrobust                                         \n",
       "==================================================================================\n",
       "                     coef    std err          z      P>|z|      [0.025      0.975]\n",
       "----------------------------------------------------------------------------------\n",
       "AC                -2.1196      0.529     -4.010      0.000      -3.156      -1.083\n",
       "UC                 1.5264      0.441      3.459      0.001       0.661       2.391\n",
       "DP                 3.9460      0.673      5.867      0.000       2.628       5.264\n",
       "ASTV               0.0904      0.150      0.603      0.547      -0.204       0.385\n",
       "ALTV               0.0886      0.152      0.583      0.560      -0.209       0.387\n",
       "Max                0.2110      0.048      4.375      0.000       0.117       0.306\n",
       "Nmax               4.9851      1.554      3.209      0.001       1.940       8.030\n",
       "Mode              -0.2697      0.071     -3.803      0.000      -0.409      -0.131\n",
       "const            -15.1442     11.189     -1.353      0.176     -37.075       6.787\n",
       "Tendency1          2.3602      0.762      3.099      0.002       0.867       3.853\n",
       "Tendency-1        -1.5827      0.996     -1.589      0.112      -3.535       0.370\n",
       "(UC, ASTV)        -0.0378      0.008     -4.625      0.000      -0.054      -0.022\n",
       "(UC, ALTV)        -0.0009      0.005     -0.161      0.872      -0.011       0.010\n",
       "(ASTV, Mode)       0.0018      0.001      2.775      0.006       0.001       0.003\n",
       "(ASTV, Median)    -0.0022      0.001     -2.292      0.022      -0.004      -0.000\n",
       "(ALTV, Max)       -0.0041      0.002     -2.607      0.009      -0.007      -0.001\n",
       "(ALTV, Mode)       0.0044      0.001      3.162      0.002       0.002       0.007\n",
       "(ASTV, Mode)       0.0018      0.001      2.775      0.006       0.001       0.003\n",
       "(Max, Nmax)       -0.0157      0.005     -3.011      0.003      -0.026      -0.005\n",
       "(Nmax, Median)    -0.0209      0.009     -2.365      0.018      -0.038      -0.004\n",
       "==================================================================================\n",
       "\"\"\""
      ]
     },
     "execution_count": 34,
     "metadata": {
      "tags": []
     },
     "output_type": "execute_result"
    }
   ],
   "source": [
    "m4 = sm.GLM(data.NSP, data.drop(columns=['NSP']),\n",
    "                       family=sm.families.Binomial())\n",
    "result_m4 = m4.fit()\n",
    "result_m4.summary()"
   ]
  },
  {
   "cell_type": "code",
   "execution_count": null,
   "metadata": {
    "colab": {
     "base_uri": "https://localhost:8080/"
    },
    "id": "xyZaWt4BoKmj",
    "outputId": "b22a35fd-e045-4250-9dd1-8170bafa9886"
   },
   "outputs": [
    {
     "name": "stdout",
     "output_type": "stream",
     "text": [
      "Likelihood Ratio Test Of Nested Models, p: 0.000\n"
     ]
    }
   ],
   "source": [
    "lr = lrtest(result_m3.llf,result_m4.llf)\n",
    "print('Likelihood Ratio Test Of Nested Models, p: %.03f' % chi2.sf(lr, 1))"
   ]
  },
  {
   "cell_type": "markdown",
   "metadata": {
    "id": "gJ5870RvoKmj"
   },
   "source": [
    "По критерию отношения правдоподобия получается лучше, однако часть коэффициентов модели незначимы. Проверим, что можно безболезненно удалить:"
   ]
  },
  {
   "cell_type": "code",
   "execution_count": null,
   "metadata": {
    "colab": {
     "base_uri": "https://localhost:8080/",
     "height": 439
    },
    "id": "EsyMIQ9soKmk",
    "outputId": "2f997c1e-cb35-405d-dafe-3003682a9d4d"
   },
   "outputs": [
    {
     "data": {
      "text/html": [
       "<style  type=\"text/css\" >\n",
       "#T_74349da0_9334_11eb_a71b_0242ac1c0002row3_col1,#T_74349da0_9334_11eb_a71b_0242ac1c0002row4_col1,#T_74349da0_9334_11eb_a71b_0242ac1c0002row9_col1,#T_74349da0_9334_11eb_a71b_0242ac1c0002row11_col1{\n",
       "            background-color :  yellow;\n",
       "        }</style><table id=\"T_74349da0_9334_11eb_a71b_0242ac1c0002\" ><thead>    <tr>        <th class=\"blank level0\" ></th>        <th class=\"col_heading level0 col0\" >features</th>        <th class=\"col_heading level0 col1\" >p-val</th>    </tr></thead><tbody>\n",
       "                <tr>\n",
       "                        <th id=\"T_74349da0_9334_11eb_a71b_0242ac1c0002level0_row0\" class=\"row_heading level0 row0\" >0</th>\n",
       "                        <td id=\"T_74349da0_9334_11eb_a71b_0242ac1c0002row0_col0\" class=\"data row0 col0\" >AC</td>\n",
       "                        <td id=\"T_74349da0_9334_11eb_a71b_0242ac1c0002row0_col1\" class=\"data row0 col1\" >0.000000</td>\n",
       "            </tr>\n",
       "            <tr>\n",
       "                        <th id=\"T_74349da0_9334_11eb_a71b_0242ac1c0002level0_row1\" class=\"row_heading level0 row1\" >1</th>\n",
       "                        <td id=\"T_74349da0_9334_11eb_a71b_0242ac1c0002row1_col0\" class=\"data row1 col0\" >UC</td>\n",
       "                        <td id=\"T_74349da0_9334_11eb_a71b_0242ac1c0002row1_col1\" class=\"data row1 col1\" >0.001000</td>\n",
       "            </tr>\n",
       "            <tr>\n",
       "                        <th id=\"T_74349da0_9334_11eb_a71b_0242ac1c0002level0_row2\" class=\"row_heading level0 row2\" >2</th>\n",
       "                        <td id=\"T_74349da0_9334_11eb_a71b_0242ac1c0002row2_col0\" class=\"data row2 col0\" >DP</td>\n",
       "                        <td id=\"T_74349da0_9334_11eb_a71b_0242ac1c0002row2_col1\" class=\"data row2 col1\" >0.000000</td>\n",
       "            </tr>\n",
       "            <tr>\n",
       "                        <th id=\"T_74349da0_9334_11eb_a71b_0242ac1c0002level0_row3\" class=\"row_heading level0 row3\" >3</th>\n",
       "                        <td id=\"T_74349da0_9334_11eb_a71b_0242ac1c0002row3_col0\" class=\"data row3 col0\" >ASTV</td>\n",
       "                        <td id=\"T_74349da0_9334_11eb_a71b_0242ac1c0002row3_col1\" class=\"data row3 col1\" >0.536000</td>\n",
       "            </tr>\n",
       "            <tr>\n",
       "                        <th id=\"T_74349da0_9334_11eb_a71b_0242ac1c0002level0_row4\" class=\"row_heading level0 row4\" >4</th>\n",
       "                        <td id=\"T_74349da0_9334_11eb_a71b_0242ac1c0002row4_col0\" class=\"data row4 col0\" >ALTV</td>\n",
       "                        <td id=\"T_74349da0_9334_11eb_a71b_0242ac1c0002row4_col1\" class=\"data row4 col1\" >0.555000</td>\n",
       "            </tr>\n",
       "            <tr>\n",
       "                        <th id=\"T_74349da0_9334_11eb_a71b_0242ac1c0002level0_row5\" class=\"row_heading level0 row5\" >5</th>\n",
       "                        <td id=\"T_74349da0_9334_11eb_a71b_0242ac1c0002row5_col0\" class=\"data row5 col0\" >Max</td>\n",
       "                        <td id=\"T_74349da0_9334_11eb_a71b_0242ac1c0002row5_col1\" class=\"data row5 col1\" >0.000000</td>\n",
       "            </tr>\n",
       "            <tr>\n",
       "                        <th id=\"T_74349da0_9334_11eb_a71b_0242ac1c0002level0_row6\" class=\"row_heading level0 row6\" >6</th>\n",
       "                        <td id=\"T_74349da0_9334_11eb_a71b_0242ac1c0002row6_col0\" class=\"data row6 col0\" >Nmax</td>\n",
       "                        <td id=\"T_74349da0_9334_11eb_a71b_0242ac1c0002row6_col1\" class=\"data row6 col1\" >0.000000</td>\n",
       "            </tr>\n",
       "            <tr>\n",
       "                        <th id=\"T_74349da0_9334_11eb_a71b_0242ac1c0002level0_row7\" class=\"row_heading level0 row7\" >7</th>\n",
       "                        <td id=\"T_74349da0_9334_11eb_a71b_0242ac1c0002row7_col0\" class=\"data row7 col0\" >Mode</td>\n",
       "                        <td id=\"T_74349da0_9334_11eb_a71b_0242ac1c0002row7_col1\" class=\"data row7 col1\" >0.000000</td>\n",
       "            </tr>\n",
       "            <tr>\n",
       "                        <th id=\"T_74349da0_9334_11eb_a71b_0242ac1c0002level0_row8\" class=\"row_heading level0 row8\" >8</th>\n",
       "                        <td id=\"T_74349da0_9334_11eb_a71b_0242ac1c0002row8_col0\" class=\"data row8 col0\" >Tendency1</td>\n",
       "                        <td id=\"T_74349da0_9334_11eb_a71b_0242ac1c0002row8_col1\" class=\"data row8 col1\" >0.001000</td>\n",
       "            </tr>\n",
       "            <tr>\n",
       "                        <th id=\"T_74349da0_9334_11eb_a71b_0242ac1c0002level0_row9\" class=\"row_heading level0 row9\" >9</th>\n",
       "                        <td id=\"T_74349da0_9334_11eb_a71b_0242ac1c0002row9_col0\" class=\"data row9 col0\" >Tendency-1</td>\n",
       "                        <td id=\"T_74349da0_9334_11eb_a71b_0242ac1c0002row9_col1\" class=\"data row9 col1\" >0.101000</td>\n",
       "            </tr>\n",
       "            <tr>\n",
       "                        <th id=\"T_74349da0_9334_11eb_a71b_0242ac1c0002level0_row10\" class=\"row_heading level0 row10\" >10</th>\n",
       "                        <td id=\"T_74349da0_9334_11eb_a71b_0242ac1c0002row10_col0\" class=\"data row10 col0\" >(UC, ASTV)</td>\n",
       "                        <td id=\"T_74349da0_9334_11eb_a71b_0242ac1c0002row10_col1\" class=\"data row10 col1\" >0.000000</td>\n",
       "            </tr>\n",
       "            <tr>\n",
       "                        <th id=\"T_74349da0_9334_11eb_a71b_0242ac1c0002level0_row11\" class=\"row_heading level0 row11\" >11</th>\n",
       "                        <td id=\"T_74349da0_9334_11eb_a71b_0242ac1c0002row11_col0\" class=\"data row11 col0\" >(UC, ALTV)</td>\n",
       "                        <td id=\"T_74349da0_9334_11eb_a71b_0242ac1c0002row11_col1\" class=\"data row11 col1\" >0.871000</td>\n",
       "            </tr>\n",
       "            <tr>\n",
       "                        <th id=\"T_74349da0_9334_11eb_a71b_0242ac1c0002level0_row12\" class=\"row_heading level0 row12\" >12</th>\n",
       "                        <td id=\"T_74349da0_9334_11eb_a71b_0242ac1c0002row12_col0\" class=\"data row12 col0\" >(ASTV, Mode)</td>\n",
       "                        <td id=\"T_74349da0_9334_11eb_a71b_0242ac1c0002row12_col1\" class=\"data row12 col1\" >0.008000</td>\n",
       "            </tr>\n",
       "            <tr>\n",
       "                        <th id=\"T_74349da0_9334_11eb_a71b_0242ac1c0002level0_row13\" class=\"row_heading level0 row13\" >13</th>\n",
       "                        <td id=\"T_74349da0_9334_11eb_a71b_0242ac1c0002row13_col0\" class=\"data row13 col0\" >(ASTV, Median)</td>\n",
       "                        <td id=\"T_74349da0_9334_11eb_a71b_0242ac1c0002row13_col1\" class=\"data row13 col1\" >0.020000</td>\n",
       "            </tr>\n",
       "            <tr>\n",
       "                        <th id=\"T_74349da0_9334_11eb_a71b_0242ac1c0002level0_row14\" class=\"row_heading level0 row14\" >14</th>\n",
       "                        <td id=\"T_74349da0_9334_11eb_a71b_0242ac1c0002row14_col0\" class=\"data row14 col0\" >(ALTV, Max)</td>\n",
       "                        <td id=\"T_74349da0_9334_11eb_a71b_0242ac1c0002row14_col1\" class=\"data row14 col1\" >0.009000</td>\n",
       "            </tr>\n",
       "            <tr>\n",
       "                        <th id=\"T_74349da0_9334_11eb_a71b_0242ac1c0002level0_row15\" class=\"row_heading level0 row15\" >15</th>\n",
       "                        <td id=\"T_74349da0_9334_11eb_a71b_0242ac1c0002row15_col0\" class=\"data row15 col0\" >(ALTV, Mode)</td>\n",
       "                        <td id=\"T_74349da0_9334_11eb_a71b_0242ac1c0002row15_col1\" class=\"data row15 col1\" >0.002000</td>\n",
       "            </tr>\n",
       "            <tr>\n",
       "                        <th id=\"T_74349da0_9334_11eb_a71b_0242ac1c0002level0_row16\" class=\"row_heading level0 row16\" >16</th>\n",
       "                        <td id=\"T_74349da0_9334_11eb_a71b_0242ac1c0002row16_col0\" class=\"data row16 col0\" >(ASTV, Mode)</td>\n",
       "                        <td id=\"T_74349da0_9334_11eb_a71b_0242ac1c0002row16_col1\" class=\"data row16 col1\" >0.008000</td>\n",
       "            </tr>\n",
       "            <tr>\n",
       "                        <th id=\"T_74349da0_9334_11eb_a71b_0242ac1c0002level0_row17\" class=\"row_heading level0 row17\" >17</th>\n",
       "                        <td id=\"T_74349da0_9334_11eb_a71b_0242ac1c0002row17_col0\" class=\"data row17 col0\" >(Max, Nmax)</td>\n",
       "                        <td id=\"T_74349da0_9334_11eb_a71b_0242ac1c0002row17_col1\" class=\"data row17 col1\" >0.001000</td>\n",
       "            </tr>\n",
       "            <tr>\n",
       "                        <th id=\"T_74349da0_9334_11eb_a71b_0242ac1c0002level0_row18\" class=\"row_heading level0 row18\" >18</th>\n",
       "                        <td id=\"T_74349da0_9334_11eb_a71b_0242ac1c0002row18_col0\" class=\"data row18 col0\" >(Nmax, Median)</td>\n",
       "                        <td id=\"T_74349da0_9334_11eb_a71b_0242ac1c0002row18_col1\" class=\"data row18 col1\" >0.014000</td>\n",
       "            </tr>\n",
       "    </tbody></table>"
      ],
      "text/plain": [
       "<pandas.io.formats.style.Styler at 0x7f3f4bcc9390>"
      ]
     },
     "execution_count": 37,
     "metadata": {
      "tags": []
     },
     "output_type": "execute_result"
    }
   ],
   "source": [
    "Single_term = pd.DataFrame(columns=['features', 'p-val'])\n",
    "for i in data.drop(columns = ['NSP', 'const']).columns:\n",
    "    model = sm.GLM(data.NSP, data.drop(columns=['NSP', i]),\n",
    "                       family=sm.families.Binomial()).fit()\n",
    "    lr = lrtest(model.llf, result_m4.llf)\n",
    "    Single_term = Single_term.append({'features': i, 'p-val':  round(chi2.sf(lr, 1), 3)}, ignore_index=True)\n",
    "Single_term.style.applymap(lambda x: 'background-color : yellow' if x>0.1\n",
    "                           else '', subset=pd.IndexSlice[:, ['p-val']])"
   ]
  },
  {
   "cell_type": "markdown",
   "metadata": {
    "id": "pQjYruOooKmk"
   },
   "source": [
    "Удалим DP ASTV, ASTV Mode и ASTV:"
   ]
  },
  {
   "cell_type": "code",
   "execution_count": null,
   "metadata": {
    "id": "JfV4ChzYoKmk"
   },
   "outputs": [],
   "source": [
    "daya_bkp = data.copy()\n",
    "data = data.drop(columns = ['ASTV' , 'ALTV','Tendency-1', '(UC, ALTV)'])\n",
    "data = data.astype('float32')"
   ]
  },
  {
   "cell_type": "code",
   "execution_count": null,
   "metadata": {
    "colab": {
     "base_uri": "https://localhost:8080/",
     "height": 584
    },
    "id": "czqu6vhFoKmk",
    "outputId": "9699886c-bd80-4246-fa36-4c85ed7f7d1e"
   },
   "outputs": [
    {
     "data": {
      "text/html": [
       "<table class=\"simpletable\">\n",
       "<caption>Generalized Linear Model Regression Results</caption>\n",
       "<tr>\n",
       "  <th>Dep. Variable:</th>          <td>NSP</td>       <th>  No. Observations:  </th>  <td>  1831</td> \n",
       "</tr>\n",
       "<tr>\n",
       "  <th>Model:</th>                  <td>GLM</td>       <th>  Df Residuals:      </th>  <td>  1821</td> \n",
       "</tr>\n",
       "<tr>\n",
       "  <th>Model Family:</th>        <td>Binomial</td>     <th>  Df Model:          </th>  <td>     9</td> \n",
       "</tr>\n",
       "<tr>\n",
       "  <th>Link Function:</th>         <td>logit</td>      <th>  Scale:             </th> <td>  1.0000</td>\n",
       "</tr>\n",
       "<tr>\n",
       "  <th>Method:</th>                <td>IRLS</td>       <th>  Log-Likelihood:    </th> <td> -61.553</td>\n",
       "</tr>\n",
       "<tr>\n",
       "  <th>Date:</th>            <td>Thu, 01 Apr 2021</td> <th>  Deviance:          </th> <td>  123.11</td>\n",
       "</tr>\n",
       "<tr>\n",
       "  <th>Time:</th>                <td>21:56:14</td>     <th>  Pearson chi2:      </th>  <td>  218.</td> \n",
       "</tr>\n",
       "<tr>\n",
       "  <th>No. Iterations:</th>         <td>46</td>        <th>                     </th>     <td> </td>   \n",
       "</tr>\n",
       "<tr>\n",
       "  <th>Covariance Type:</th>     <td>nonrobust</td>    <th>                     </th>     <td> </td>   \n",
       "</tr>\n",
       "</table>\n",
       "<table class=\"simpletable\">\n",
       "<tr>\n",
       "         <td></td>           <th>coef</th>     <th>std err</th>      <th>z</th>      <th>P>|z|</th>  <th>[0.025</th>    <th>0.975]</th>  \n",
       "</tr>\n",
       "<tr>\n",
       "  <th>AC</th>             <td>   -2.0252</td> <td>    0.526</td> <td>   -3.850</td> <td> 0.000</td> <td>   -3.056</td> <td>   -0.994</td>\n",
       "</tr>\n",
       "<tr>\n",
       "  <th>UC</th>             <td>    1.3669</td> <td>    0.404</td> <td>    3.383</td> <td> 0.001</td> <td>    0.575</td> <td>    2.159</td>\n",
       "</tr>\n",
       "<tr>\n",
       "  <th>DP</th>             <td>    3.9863</td> <td>    0.658</td> <td>    6.054</td> <td> 0.000</td> <td>    2.696</td> <td>    5.277</td>\n",
       "</tr>\n",
       "<tr>\n",
       "  <th>Max</th>            <td>    0.1790</td> <td>    0.037</td> <td>    4.832</td> <td> 0.000</td> <td>    0.106</td> <td>    0.252</td>\n",
       "</tr>\n",
       "<tr>\n",
       "  <th>Nmax</th>           <td>    4.9030</td> <td>    1.285</td> <td>    3.815</td> <td> 0.000</td> <td>    2.384</td> <td>    7.422</td>\n",
       "</tr>\n",
       "<tr>\n",
       "  <th>Mode</th>           <td>   -0.2804</td> <td>    0.047</td> <td>   -6.009</td> <td> 0.000</td> <td>   -0.372</td> <td>   -0.189</td>\n",
       "</tr>\n",
       "<tr>\n",
       "  <th>const</th>          <td>   -8.3967</td> <td>    4.887</td> <td>   -1.718</td> <td> 0.086</td> <td>  -17.975</td> <td>    1.182</td>\n",
       "</tr>\n",
       "<tr>\n",
       "  <th>Tendency1</th>      <td>    2.3568</td> <td>    0.673</td> <td>    3.503</td> <td> 0.000</td> <td>    1.038</td> <td>    3.675</td>\n",
       "</tr>\n",
       "<tr>\n",
       "  <th>(UC, ASTV)</th>     <td>   -0.0343</td> <td>    0.007</td> <td>   -4.971</td> <td> 0.000</td> <td>   -0.048</td> <td>   -0.021</td>\n",
       "</tr>\n",
       "<tr>\n",
       "  <th>(ASTV, Mode)</th>   <td>    0.0018</td> <td>    0.000</td> <td>    3.883</td> <td> 0.000</td> <td>    0.001</td> <td>    0.003</td>\n",
       "</tr>\n",
       "<tr>\n",
       "  <th>(ASTV, Median)</th> <td>   -0.0017</td> <td>    0.001</td> <td>   -2.059</td> <td> 0.040</td> <td>   -0.003</td> <td>-8.23e-05</td>\n",
       "</tr>\n",
       "<tr>\n",
       "  <th>(ALTV, Max)</th>    <td>   -0.0037</td> <td>    0.001</td> <td>   -3.133</td> <td> 0.002</td> <td>   -0.006</td> <td>   -0.001</td>\n",
       "</tr>\n",
       "<tr>\n",
       "  <th>(ALTV, Mode)</th>   <td>    0.0045</td> <td>    0.001</td> <td>    3.567</td> <td> 0.000</td> <td>    0.002</td> <td>    0.007</td>\n",
       "</tr>\n",
       "<tr>\n",
       "  <th>(ASTV, Mode)</th>   <td>    0.0018</td> <td>    0.000</td> <td>    3.883</td> <td> 0.000</td> <td>    0.001</td> <td>    0.003</td>\n",
       "</tr>\n",
       "<tr>\n",
       "  <th>(Max, Nmax)</th>    <td>   -0.0142</td> <td>    0.004</td> <td>   -3.454</td> <td> 0.001</td> <td>   -0.022</td> <td>   -0.006</td>\n",
       "</tr>\n",
       "<tr>\n",
       "  <th>(Nmax, Median)</th> <td>   -0.0217</td> <td>    0.008</td> <td>   -2.592</td> <td> 0.010</td> <td>   -0.038</td> <td>   -0.005</td>\n",
       "</tr>\n",
       "</table>"
      ],
      "text/plain": [
       "<class 'statsmodels.iolib.summary.Summary'>\n",
       "\"\"\"\n",
       "                 Generalized Linear Model Regression Results                  \n",
       "==============================================================================\n",
       "Dep. Variable:                    NSP   No. Observations:                 1831\n",
       "Model:                            GLM   Df Residuals:                     1821\n",
       "Model Family:                Binomial   Df Model:                            9\n",
       "Link Function:                  logit   Scale:                          1.0000\n",
       "Method:                          IRLS   Log-Likelihood:                -61.553\n",
       "Date:                Thu, 01 Apr 2021   Deviance:                       123.11\n",
       "Time:                        21:56:14   Pearson chi2:                     218.\n",
       "No. Iterations:                    46                                         \n",
       "Covariance Type:            nonrobust                                         \n",
       "==================================================================================\n",
       "                     coef    std err          z      P>|z|      [0.025      0.975]\n",
       "----------------------------------------------------------------------------------\n",
       "AC                -2.0252      0.526     -3.850      0.000      -3.056      -0.994\n",
       "UC                 1.3669      0.404      3.383      0.001       0.575       2.159\n",
       "DP                 3.9863      0.658      6.054      0.000       2.696       5.277\n",
       "Max                0.1790      0.037      4.832      0.000       0.106       0.252\n",
       "Nmax               4.9030      1.285      3.815      0.000       2.384       7.422\n",
       "Mode              -0.2804      0.047     -6.009      0.000      -0.372      -0.189\n",
       "const             -8.3967      4.887     -1.718      0.086     -17.975       1.182\n",
       "Tendency1          2.3568      0.673      3.503      0.000       1.038       3.675\n",
       "(UC, ASTV)        -0.0343      0.007     -4.971      0.000      -0.048      -0.021\n",
       "(ASTV, Mode)       0.0018      0.000      3.883      0.000       0.001       0.003\n",
       "(ASTV, Median)    -0.0017      0.001     -2.059      0.040      -0.003   -8.23e-05\n",
       "(ALTV, Max)       -0.0037      0.001     -3.133      0.002      -0.006      -0.001\n",
       "(ALTV, Mode)       0.0045      0.001      3.567      0.000       0.002       0.007\n",
       "(ASTV, Mode)       0.0018      0.000      3.883      0.000       0.001       0.003\n",
       "(Max, Nmax)       -0.0142      0.004     -3.454      0.001      -0.022      -0.006\n",
       "(Nmax, Median)    -0.0217      0.008     -2.592      0.010      -0.038      -0.005\n",
       "==================================================================================\n",
       "\"\"\""
      ]
     },
     "execution_count": 39,
     "metadata": {
      "tags": []
     },
     "output_type": "execute_result"
    }
   ],
   "source": [
    "m5 = sm.GLM(data.NSP, data.drop(columns=['NSP']),\n",
    "                       family=sm.families.Binomial())\n",
    "result_m5 = m5.fit()\n",
    "result_m5.summary()"
   ]
  },
  {
   "cell_type": "code",
   "execution_count": null,
   "metadata": {
    "colab": {
     "base_uri": "https://localhost:8080/"
    },
    "id": "w9gxoZt3oKml",
    "outputId": "9e3bfc43-f225-45b7-930c-05c14330a0e6"
   },
   "outputs": [
    {
     "name": "stdout",
     "output_type": "stream",
     "text": [
      "Likelihood Ratio Test Of Nested Models, p: 0.040\n"
     ]
    }
   ],
   "source": [
    "lr = lrtest(result_m5.llf,result_m4.llf)\n",
    "print('Likelihood Ratio Test Of Nested Models, p: %.03f' % chi2.sf(lr, 1))"
   ]
  },
  {
   "cell_type": "code",
   "execution_count": null,
   "metadata": {
    "colab": {
     "base_uri": "https://localhost:8080/"
    },
    "id": "y3R__u7OoKml",
    "outputId": "d57b7fd0-1426-4caf-cc6a-3f225b497de0"
   },
   "outputs": [
    {
     "name": "stdout",
     "output_type": "stream",
     "text": [
      "Likelihood Ratio Test Of Nested Models, p: 0.000\n"
     ]
    }
   ],
   "source": [
    "lr = lrtest(result_m3.llf,result_m5.llf)\n",
    "print('Likelihood Ratio Test Of Nested Models, p: %.03f' % chi2.sf(lr, 1))"
   ]
  },
  {
   "cell_type": "markdown",
   "metadata": {
    "id": "b42Hm61VoKml"
   },
   "source": [
    "Получаем, что пятая модель чуть хуже 4 и лучше 3.\n"
   ]
  },
  {
   "cell_type": "markdown",
   "metadata": {
    "id": "JLwfqAG8oKml"
   },
   "source": [
    "## Модель 6\n",
    "\n",
    "Попробуем удалить влиятельные наблюдения:"
   ]
  },
  {
   "cell_type": "code",
   "execution_count": null,
   "metadata": {
    "colab": {
     "base_uri": "https://localhost:8080/"
    },
    "id": "2tdugEfQoKmm",
    "outputId": "9d47d636-199f-4a8c-8fa1-e11379cd2c72"
   },
   "outputs": [
    {
     "name": "stdout",
     "output_type": "stream",
     "text": [
      "0       3.307337e-17\n",
      "1       2.099731e-12\n",
      "2       8.885472e-14\n",
      "3       3.929435e-17\n",
      "4       3.042679e-15\n",
      "            ...     \n",
      "1826    3.263487e-09\n",
      "1827    1.575720e-11\n",
      "1828    3.020519e-08\n",
      "1829    6.095623e-08\n",
      "1830    3.313396e-02\n",
      "Name: cooks_d, Length: 1831, dtype: float64\n"
     ]
    }
   ],
   "source": [
    "infl = result_m5.get_influence()\n",
    "sm_fr = infl.summary_frame()\n"
   ]
  },
  {
   "cell_type": "code",
   "execution_count": null,
   "metadata": {
    "colab": {
     "base_uri": "https://localhost:8080/",
     "height": 354
    },
    "id": "WEO95hUVoKmm",
    "outputId": "f7ecd32b-9016-4e04-b686-108ca34f7dfe"
   },
   "outputs": [
    {
     "name": "stderr",
     "output_type": "stream",
     "text": [
      "/usr/local/lib/python3.7/dist-packages/seaborn/_decorators.py:43: FutureWarning: Pass the following variables as keyword args: x, y. From version 0.12, the only valid positional argument will be `data`, and passing other arguments without an explicit keyword will result in an error or misinterpretation.\n",
      "  FutureWarning\n"
     ]
    },
    {
     "data": {
      "text/plain": [
       "Text(0, 0.5, 'Cooks distance')"
      ]
     },
     "execution_count": 53,
     "metadata": {
      "tags": []
     },
     "output_type": "execute_result"
    },
    {
     "data": {
      "image/png": "[encoded data removed]",
      "text/plain": [
       "<Figure size 432x288 with 1 Axes>"
      ]
     },
     "metadata": {
      "needs_background": "light",
      "tags": []
     },
     "output_type": "display_data"
    }
   ],
   "source": [
    "sns.scatterplot(result_m5.fittedvalues,sm_fr.cooks_d)\n",
    "plt.xlabel('Fitted', fontsize=14)\n",
    "plt.ylabel('Cooks distance', fontsize=14)"
   ]
  },
  {
   "cell_type": "code",
   "execution_count": null,
   "metadata": {
    "id": "BInSftygoKmm"
   },
   "outputs": [],
   "source": [
    "data_del = data[sm_fr.cooks_d <= 0.05]"
   ]
  },
  {
   "cell_type": "code",
   "execution_count": null,
   "metadata": {
    "colab": {
     "base_uri": "https://localhost:8080/"
    },
    "id": "OtbcJfaEoKmm",
    "outputId": "e405e4ae-db2a-49fd-fff4-b26ed69b13dc"
   },
   "outputs": [
    {
     "name": "stdout",
     "output_type": "stream",
     "text": [
      "Likelihood Ratio Test Of Nested Models, p: 0.000\n",
      "AC                0.521640\n",
      "UC                0.325642\n",
      "DP                0.183686\n",
      "Max               0.300403\n",
      "Nmax              0.049578\n",
      "Mode              0.410664\n",
      "const            -0.390963\n",
      "Tendency1         0.419114\n",
      "(UC, ASTV)        0.325148\n",
      "(ASTV, Mode)      0.505590\n",
      "(ASTV, Median)    0.771085\n",
      "(ALTV, Max)       0.371905\n",
      "(ALTV, Mode)      0.355245\n",
      "(ASTV, Mode)      0.505590\n",
      "(Max, Nmax)       0.133277\n",
      "(Nmax, Median)    0.087610\n",
      "dtype: float64\n"
     ]
    }
   ],
   "source": [
    "m6 = sm.GLM(data_del.NSP, data_del.drop(columns=['NSP']),\n",
    "                       family=sm.families.Binomial())\n",
    "result_m6 = m6.fit()\n",
    "[result_m6.params - result_m5.params]\n",
    "lr = lrtest(result_m5.llf,result_m6.llf)\n",
    "\n",
    "#плохо\n",
    "print('Likelihood Ratio Test Of Nested Models, p: %.03f' % chi2.sf(lr, 1))\n",
    "\n",
    "#лучше\n",
    "print((result_m6.params - result_m5.params)/result_m5.params)"
   ]
  },
  {
   "cell_type": "markdown",
   "metadata": {
    "id": "Le9bFrU4oKmn"
   },
   "source": [
    "Различия небольшие, так что оставим модель, настроенную на полных данных."
   ]
  },
  {
   "cell_type": "markdown",
   "metadata": {
    "id": "naG6OItBoKmn"
   },
   "source": [
    "## Итог\n",
    "Посмотрим на качество классификации:"
   ]
  },
  {
   "cell_type": "code",
   "execution_count": null,
   "metadata": {
    "colab": {
     "base_uri": "https://localhost:8080/",
     "height": 282
    },
    "id": "Z2dqIlTqoKmn",
    "outputId": "06e34be9-5034-4197-d6a2-806f12f7a759"
   },
   "outputs": [
    {
     "data": {
      "text/plain": [
       "0.9979092282340016"
      ]
     },
     "execution_count": 160,
     "metadata": {
      "tags": []
     },
     "output_type": "execute_result"
    },
    {
     "data": {
      "image/png": "[encoded data removed]",
      "text/plain": [
       "<Figure size 432x288 with 1 Axes>"
      ]
     },
     "metadata": {
      "needs_background": "light",
      "tags": []
     },
     "output_type": "display_data"
    }
   ],
   "source": [
    "from sklearn.metrics import roc_curve, roc_auc_score\n",
    "pred = np.asarray(m5.predict(result_m5.params))\n",
    "real = np.asarray(data.NSP)\n",
    "fpr, tpr, thresholds = roc_curve(real, pred)\n",
    "plt.plot(fpr, label = 'fpr')\n",
    "plt.plot(tpr, label = 'tpr')\n",
    "plt.legend(fontsize=10)\n",
    "roc_auc_score(real,pred)"
   ]
  },
  {
   "cell_type": "code",
   "execution_count": null,
   "metadata": {
    "colab": {
     "base_uri": "https://localhost:8080/",
     "height": 282
    },
    "id": "IW2pP9sLn8Jk",
    "outputId": "43bc623d-49ce-43f4-b52e-15b8437cc2f0"
   },
   "outputs": [
    {
     "data": {
      "text/plain": [
       "0.9973976929414995"
      ]
     },
     "execution_count": 161,
     "metadata": {
      "tags": []
     },
     "output_type": "execute_result"
    },
    {
     "data": {
      "image/png": "[encoded data removed]",
      "text/plain": [
       "<Figure size 432x288 with 1 Axes>"
      ]
     },
     "metadata": {
      "needs_background": "light",
      "tags": []
     },
     "output_type": "display_data"
    }
   ],
   "source": [
    "pred2 = np.matmul(data.drop(columns=['NSP']).to_numpy(), result_m6.params.to_numpy().transpose())\n",
    "fpr, tpr, thresholds = roc_curve(real, pred2)\n",
    "plt.plot(fpr, label = 'fpr')\n",
    "plt.plot(tpr, label = 'tpr')\n",
    "plt.legend(fontsize=10)\n",
    "roc_auc_score(real,pred2)"
   ]
  },
  {
   "cell_type": "code",
   "execution_count": null,
   "metadata": {
    "colab": {
     "base_uri": "https://localhost:8080/",
     "height": 500
    },
    "id": "fVS2tDp2oKmn",
    "outputId": "24e1f8a2-3a98-4083-a39e-3edd4c172e6d"
   },
   "outputs": [
    {
     "data": {
      "text/plain": [
       "<matplotlib.legend.Legend at 0x7f3f4575f850>"
      ]
     },
     "execution_count": 120,
     "metadata": {
      "tags": []
     },
     "output_type": "execute_result"
    },
    {
     "data": {
      "image/png": "[encoded data removed]",
      "text/plain": [
       "<Figure size 576x576 with 1 Axes>"
      ]
     },
     "metadata": {
      "needs_background": "light",
      "tags": []
     },
     "output_type": "display_data"
    }
   ],
   "source": [
    "plt.figure(figsize=(8,8))\n",
    "plt.plot(fpr, tpr, label = 'ROC')\n",
    "plt.legend(fontsize=10)"
   ]
  },
  {
   "cell_type": "code",
   "execution_count": null,
   "metadata": {
    "colab": {
     "base_uri": "https://localhost:8080/"
    },
    "id": "L3OJVE8voKmn",
    "outputId": "995f9aa2-1822-4e2d-efc5-7502d520c62e"
   },
   "outputs": [
    {
     "data": {
      "text/plain": [
       "0.9979092282340016"
      ]
     },
     "execution_count": 121,
     "metadata": {
      "tags": []
     },
     "output_type": "execute_result"
    }
   ],
   "source": [
    "roc_auc_score(real,pred)"
   ]
  },
  {
   "cell_type": "code",
   "execution_count": null,
   "metadata": {
    "colab": {
     "base_uri": "https://localhost:8080/"
    },
    "id": "9ddejC9UoKmo",
    "outputId": "e7da060c-453b-48e4-d73d-aadf420c3774"
   },
   "outputs": [
    {
     "name": "stdout",
     "output_type": "stream",
     "text": [
      "Likelihood Ratio Test Of Nested Models, p: 0.000000\n"
     ]
    }
   ],
   "source": [
    "lr = lrtest(result_m0.llf,result_m5.llf)\n",
    "print('Likelihood Ratio Test Of Nested Models, p: %f' % chi2.sf(lr, 1))"
   ]
  },
  {
   "cell_type": "markdown",
   "metadata": {
    "id": "PG3EY78noKmo"
   },
   "source": [
    "Площадь под ROC-кривой составляет 0.997. "
   ]
  },
  {
   "cell_type": "code",
   "execution_count": null,
   "metadata": {
    "colab": {
     "base_uri": "https://localhost:8080/"
    },
    "id": "LoalQ7PboKmo",
    "outputId": "d1daa5a3-e6fc-4aa5-a7f8-1f1cd067139b"
   },
   "outputs": [
    {
     "data": {
      "text/plain": [
       "pandas.core.series.Series"
      ]
     },
     "execution_count": 166,
     "metadata": {
      "tags": []
     },
     "output_type": "execute_result"
    }
   ],
   "source": [
    "type(1/np.exp(result_m5.params)*np.sign(result_m5.params))"
   ]
  },
  {
   "cell_type": "code",
   "execution_count": null,
   "metadata": {
    "colab": {
     "base_uri": "https://localhost:8080/",
     "height": 545
    },
    "id": "p0iJBMuKoKmo",
    "outputId": "788f3ab3-92d3-420c-f43b-f17c4e85b720"
   },
   "outputs": [
    {
     "data": {
      "text/html": [
       "<div>\n",
       "<style scoped>\n",
       "    .dataframe tbody tr th:only-of-type {\n",
       "        vertical-align: middle;\n",
       "    }\n",
       "\n",
       "    .dataframe tbody tr th {\n",
       "        vertical-align: top;\n",
       "    }\n",
       "\n",
       "    .dataframe thead th {\n",
       "        text-align: right;\n",
       "    }\n",
       "</style>\n",
       "<table border=\"1\" class=\"dataframe\">\n",
       "  <thead>\n",
       "    <tr style=\"text-align: right;\">\n",
       "      <th></th>\n",
       "      <th>low_conf</th>\n",
       "      <th>up_conf</th>\n",
       "      <th>params</th>\n",
       "    </tr>\n",
       "  </thead>\n",
       "  <tbody>\n",
       "    <tr>\n",
       "      <th>AC</th>\n",
       "      <td>2.124599e+01</td>\n",
       "      <td>2.702677</td>\n",
       "      <td>-7.577667</td>\n",
       "    </tr>\n",
       "    <tr>\n",
       "      <th>UC</th>\n",
       "      <td>5.627064e-01</td>\n",
       "      <td>0.115465</td>\n",
       "      <td>0.254898</td>\n",
       "    </tr>\n",
       "    <tr>\n",
       "      <th>DP</th>\n",
       "      <td>6.749485e-02</td>\n",
       "      <td>0.005108</td>\n",
       "      <td>0.018568</td>\n",
       "    </tr>\n",
       "    <tr>\n",
       "      <th>Max</th>\n",
       "      <td>8.990842e-01</td>\n",
       "      <td>0.777592</td>\n",
       "      <td>0.836134</td>\n",
       "    </tr>\n",
       "    <tr>\n",
       "      <th>Nmax</th>\n",
       "      <td>9.215479e-02</td>\n",
       "      <td>0.000598</td>\n",
       "      <td>0.007424</td>\n",
       "    </tr>\n",
       "    <tr>\n",
       "      <th>Mode</th>\n",
       "      <td>1.450444e+00</td>\n",
       "      <td>1.207989</td>\n",
       "      <td>-1.323677</td>\n",
       "    </tr>\n",
       "    <tr>\n",
       "      <th>const</th>\n",
       "      <td>6.405668e+07</td>\n",
       "      <td>0.306705</td>\n",
       "      <td>-4432.439267</td>\n",
       "    </tr>\n",
       "    <tr>\n",
       "      <th>Tendency1</th>\n",
       "      <td>3.541428e-01</td>\n",
       "      <td>0.025337</td>\n",
       "      <td>0.094725</td>\n",
       "    </tr>\n",
       "    <tr>\n",
       "      <th>(UC, ASTV)</th>\n",
       "      <td>1.048996e+00</td>\n",
       "      <td>1.020998</td>\n",
       "      <td>-1.034902</td>\n",
       "    </tr>\n",
       "    <tr>\n",
       "      <th>(ASTV, Mode)</th>\n",
       "      <td>9.991054e-01</td>\n",
       "      <td>0.997285</td>\n",
       "      <td>0.998195</td>\n",
       "    </tr>\n",
       "    <tr>\n",
       "      <th>(ASTV, Median)</th>\n",
       "      <td>1.003348e+00</td>\n",
       "      <td>1.000082</td>\n",
       "      <td>-1.001714</td>\n",
       "    </tr>\n",
       "    <tr>\n",
       "      <th>(ALTV, Max)</th>\n",
       "      <td>1.005958e+00</td>\n",
       "      <td>1.001369</td>\n",
       "      <td>-1.003661</td>\n",
       "    </tr>\n",
       "    <tr>\n",
       "      <th>(ALTV, Mode)</th>\n",
       "      <td>9.979656e-01</td>\n",
       "      <td>0.993019</td>\n",
       "      <td>0.995489</td>\n",
       "    </tr>\n",
       "    <tr>\n",
       "      <th>(ASTV, Mode)</th>\n",
       "      <td>9.991054e-01</td>\n",
       "      <td>0.997285</td>\n",
       "      <td>0.998195</td>\n",
       "    </tr>\n",
       "    <tr>\n",
       "      <th>(Max, Nmax)</th>\n",
       "      <td>1.022516e+00</td>\n",
       "      <td>1.006164</td>\n",
       "      <td>-1.014307</td>\n",
       "    </tr>\n",
       "    <tr>\n",
       "      <th>(Nmax, Median)</th>\n",
       "      <td>1.038903e+00</td>\n",
       "      <td>1.005315</td>\n",
       "      <td>-1.021971</td>\n",
       "    </tr>\n",
       "  </tbody>\n",
       "</table>\n",
       "</div>"
      ],
      "text/plain": [
       "                    low_conf   up_conf       params\n",
       "AC              2.124599e+01  2.702677    -7.577667\n",
       "UC              5.627064e-01  0.115465     0.254898\n",
       "DP              6.749485e-02  0.005108     0.018568\n",
       "Max             8.990842e-01  0.777592     0.836134\n",
       "Nmax            9.215479e-02  0.000598     0.007424\n",
       "Mode            1.450444e+00  1.207989    -1.323677\n",
       "const           6.405668e+07  0.306705 -4432.439267\n",
       "Tendency1       3.541428e-01  0.025337     0.094725\n",
       "(UC, ASTV)      1.048996e+00  1.020998    -1.034902\n",
       "(ASTV, Mode)    9.991054e-01  0.997285     0.998195\n",
       "(ASTV, Median)  1.003348e+00  1.000082    -1.001714\n",
       "(ALTV, Max)     1.005958e+00  1.001369    -1.003661\n",
       "(ALTV, Mode)    9.979656e-01  0.993019     0.995489\n",
       "(ASTV, Mode)    9.991054e-01  0.997285     0.998195\n",
       "(Max, Nmax)     1.022516e+00  1.006164    -1.014307\n",
       "(Nmax, Median)  1.038903e+00  1.005315    -1.021971"
      ]
     },
     "execution_count": 167,
     "metadata": {
      "tags": []
     },
     "output_type": "execute_result"
    }
   ],
   "source": [
    "df = (1/np.exp(result_m5.conf_int()))\n",
    "df = pd.concat([df,1/np.exp(result_m5.params)*np.sign(result_m5.params)], axis = 1)\n",
    "df.columns = ['low_conf', 'up_conf', 'params']\n",
    "df"
   ]
  },
  {
   "cell_type": "markdown",
   "metadata": {
    "id": "6YSjqtT9oKmo"
   },
   "source": [
    "Расшифровки обозначений для признаков в финальной модели:\n",
    "\n",
    "- AC - число ускорений в секунду;\n",
    "- UC - число сокращений матки;\n",
    "- DP - число длительных замедлений в секунду;\n",
    "- ALTV - процент абнормальных долгосрочных изменений;\n",
    "- ASTV - процент абнормальных краткосрочных изменений;\n",
    "- Max - максимум гистограммы FHR;\n",
    "- Nmax - число раз, которое достигается максимум в гистограмме FHR;\n",
    "- Mode - мода гистограммы FHR\n",
    "- Tendency - тенденция гистограммы FHR: -1 = левая асимметричный; 0 = симметричная; 1 = правая асимметричная.\n",
    "\n",
    "Выводы:\n",
    "\n",
    "* С ростом числа ускорений в секунду на единицу риск патологии уменьшается в 4.780 раз [9.275, 2.463].\n",
    "\n",
    "* С увеличением на единицу числа длительных замедлений в секунду риск патологии увеличивается в 5.049 раз [0.019,0.002].\n",
    "\n",
    "* Увеличение на процент доли абнормальных долгосрочных изменений связано с ростом риска патологии в 0.925 раз [0.94, 0.91].\n",
    "\n",
    "* С увеличением на единицу максимума гистограммы FHR риск патологии увеличивается в 0.91 раз [1.937, 1.269].\n",
    "\n",
    "* C каждым дополнительным максимумом гистограммы FHR риск патологии уменьшается в  1.568 раз [1.937, 1.269].\n",
    "\n",
    "* Увеличение на единицу моды гистограммы FHR связано с уменьшением риска патологии в 1.135 раз [1.170, 1.102].\n",
    "\n",
    "* При наличии левой ассиметрии гистограммы FHR риск патологии уменьшается в 3.069 раз [9.258, 1.017]\n",
    "\n",
    "* При наличии правой ассиметрии гистограммы FHR риск патологии увеличивается в 0.251 раз [0.57, 0.109]\n",
    "\n",
    "* Увеличение на процент доли абнормальных краткосрочных изменений при минимальном значении числа сокращений матки 0 связано с\n",
    "увеличением риска патологии в 0.985 раз [0.993, 0.977].\n",
    "\n",
    "\n",
    "Все приведённые доверительные интервалы построены на уровне доверия 95%."
   ]
  }
 ],
 "metadata": {
  "colab": {
   "name": "GLM.ipynb",
   "provenance": []
  },
  "kernelspec": {
   "display_name": "Python 3",
   "language": "python",
   "name": "python3"
  },
  "language_info": {
   "codemirror_mode": {
    "name": "ipython",
    "version": 3
   },
   "file_extension": ".py",
   "mimetype": "text/x-python",
   "name": "python",
   "nbconvert_exporter": "python",
   "pygments_lexer": "ipython3",
   "version": "3.7.6"
  }
 },
 "nbformat": 4,
 "nbformat_minor": 1
}
